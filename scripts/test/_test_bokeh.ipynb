{
 "cells": [
  {
   "cell_type": "markdown",
   "id": "c3328bfb",
   "metadata": {
    "toc": true
   },
   "source": [
    "<h1>Table of Contents<span class=\"tocSkip\"></span></h1>\n",
    "<div class=\"toc\"><ul class=\"toc-item\"></ul></div>"
   ]
  },
  {
   "cell_type": "code",
   "execution_count": 1,
   "id": "143695f1",
   "metadata": {},
   "outputs": [
    {
     "data": {
      "text/html": [
       "\n",
       "<style>\n",
       "    .container {width:98%}\n",
       "<\\style>\n"
      ],
      "text/plain": [
       "<IPython.core.display.HTML object>"
      ]
     },
     "metadata": {},
     "output_type": "display_data"
    }
   ],
   "source": [
    "%%html\n",
    "\n",
    "<style>\n",
    "    .container {width:98%}\n",
    "<\\style>"
   ]
  },
  {
   "cell_type": "code",
   "execution_count": 1,
   "id": "fb0a7ecc",
   "metadata": {},
   "outputs": [],
   "source": [
    "import sys\n",
    "\n",
    "sys.path.insert(0, \"/home/zatterin/repos/id01-sxdm-utils/\")"
   ]
  },
  {
   "cell_type": "code",
   "execution_count": 2,
   "id": "1980b592",
   "metadata": {},
   "outputs": [],
   "source": [
    "import sxdm\n",
    "import panel as pn\n",
    "import numpy as np\n",
    "import ipywidgets as ipw"
   ]
  },
  {
   "cell_type": "code",
   "execution_count": 9,
   "id": "90c947f3",
   "metadata": {},
   "outputs": [
    {
     "name": "stdout",
     "output_type": "stream",
     "text": [
      "blc13838-NiO-align.h5  \u001b[0m\u001b[01;34mscan0002\u001b[0m/  \u001b[01;34mscan0005\u001b[0m/  \u001b[01;34mscan0008\u001b[0m/  \u001b[01;34mscan0011\u001b[0m/  \u001b[01;34mscan0014\u001b[0m/\r\n",
      "NiO_align.h5           \u001b[01;34mscan0003\u001b[0m/  \u001b[01;34mscan0006\u001b[0m/  \u001b[01;34mscan0009\u001b[0m/  \u001b[01;34mscan0012\u001b[0m/  \u001b[01;34mscan0015\u001b[0m/\r\n",
      "\u001b[01;34mscan0001\u001b[0m/              \u001b[01;34mscan0004\u001b[0m/  \u001b[01;34mscan0007\u001b[0m/  \u001b[01;34mscan0010\u001b[0m/  \u001b[01;34mscan0013\u001b[0m/\r\n"
     ]
    }
   ],
   "source": [
    "ls"
   ]
  },
  {
   "cell_type": "code",
   "execution_count": 3,
   "id": "86a981f0",
   "metadata": {},
   "outputs": [],
   "source": [
    "path_dset = \"/data/id01/inhouse/data/IHR/blc13838/id01/NiO_macro/NiO_macro_0003/NiO_macro_0003.h5\""
   ]
  },
  {
   "cell_type": "code",
   "execution_count": 5,
   "id": "cf6f20ea",
   "metadata": {},
   "outputs": [
    {
     "data": {
      "application/vnd.jupyter.widget-view+json": {
       "model_id": "fd4827dc2aeb425abf808e20f148e69f",
       "version_major": 2,
       "version_minor": 0
      },
      "text/plain": [
       "HBox(children=(VBox(children=(Dropdown(description='ROI:', index=5, layout=Layout(width='auto'), options=('ct_…"
      ]
     },
     "metadata": {},
     "output_type": "display_data"
    }
   ],
   "source": [
    "viz = sxdm.widgets.bliss.InspectROI(path_dset, init_scan_no=\"20.1\")\n",
    "viz.show()"
   ]
  },
  {
   "cell_type": "code",
   "execution_count": 9,
   "id": "5ee0e6b2",
   "metadata": {},
   "outputs": [
    {
     "data": {},
     "metadata": {},
     "output_type": "display_data"
    },
    {
     "data": {
      "application/vnd.holoviews_exec.v0+json": "",
      "text/html": [
       "<div id='1167'>\n",
       "  <div class=\"bk-root\" id=\"11a8fc72-2d7d-4a00-841e-5282557cd58d\" data-root-id=\"1167\"></div>\n",
       "</div>\n",
       "<script type=\"application/javascript\">(function(root) {\n",
       "  function embed_document(root) {\n",
       "    var docs_json = {\"d6afe24e-18f3-48d4-a2b6-f1bd06f5b634\":{\"defs\":[{\"extends\":null,\"module\":null,\"name\":\"ReactiveHTML1\",\"overrides\":[],\"properties\":[]},{\"extends\":null,\"module\":null,\"name\":\"FlexBox1\",\"overrides\":[],\"properties\":[{\"default\":\"flex-start\",\"kind\":null,\"name\":\"align_content\"},{\"default\":\"flex-start\",\"kind\":null,\"name\":\"align_items\"},{\"default\":\"row\",\"kind\":null,\"name\":\"flex_direction\"},{\"default\":\"wrap\",\"kind\":null,\"name\":\"flex_wrap\"},{\"default\":\"flex-start\",\"kind\":null,\"name\":\"justify_content\"}]},{\"extends\":null,\"module\":null,\"name\":\"GridStack1\",\"overrides\":[],\"properties\":[{\"default\":\"warn\",\"kind\":null,\"name\":\"mode\"},{\"default\":null,\"kind\":null,\"name\":\"ncols\"},{\"default\":null,\"kind\":null,\"name\":\"nrows\"},{\"default\":true,\"kind\":null,\"name\":\"allow_resize\"},{\"default\":true,\"kind\":null,\"name\":\"allow_drag\"},{\"default\":[],\"kind\":null,\"name\":\"state\"}]},{\"extends\":null,\"module\":null,\"name\":\"click1\",\"overrides\":[],\"properties\":[{\"default\":\"\",\"kind\":null,\"name\":\"terminal_output\"},{\"default\":\"\",\"kind\":null,\"name\":\"debug_name\"},{\"default\":0,\"kind\":null,\"name\":\"clears\"}]},{\"extends\":null,\"module\":null,\"name\":\"NotificationAreaBase1\",\"overrides\":[],\"properties\":[{\"default\":\"bottom-right\",\"kind\":null,\"name\":\"position\"},{\"default\":0,\"kind\":null,\"name\":\"_clear\"}]},{\"extends\":null,\"module\":null,\"name\":\"NotificationArea1\",\"overrides\":[],\"properties\":[{\"default\":[],\"kind\":null,\"name\":\"notifications\"},{\"default\":\"bottom-right\",\"kind\":null,\"name\":\"position\"},{\"default\":0,\"kind\":null,\"name\":\"_clear\"},{\"default\":[{\"background\":\"#ffc107\",\"icon\":{\"className\":\"fas fa-exclamation-triangle\",\"color\":\"white\",\"tagName\":\"i\"},\"type\":\"warning\"},{\"background\":\"#007bff\",\"icon\":{\"className\":\"fas fa-info-circle\",\"color\":\"white\",\"tagName\":\"i\"},\"type\":\"info\"}],\"kind\":null,\"name\":\"types\"}]},{\"extends\":null,\"module\":null,\"name\":\"Notification\",\"overrides\":[],\"properties\":[{\"default\":null,\"kind\":null,\"name\":\"background\"},{\"default\":3000,\"kind\":null,\"name\":\"duration\"},{\"default\":null,\"kind\":null,\"name\":\"icon\"},{\"default\":\"\",\"kind\":null,\"name\":\"message\"},{\"default\":null,\"kind\":null,\"name\":\"notification_type\"},{\"default\":false,\"kind\":null,\"name\":\"_destroyed\"}]},{\"extends\":null,\"module\":null,\"name\":\"TemplateActions1\",\"overrides\":[],\"properties\":[{\"default\":0,\"kind\":null,\"name\":\"open_modal\"},{\"default\":0,\"kind\":null,\"name\":\"close_modal\"}]},{\"extends\":null,\"module\":null,\"name\":\"MaterialTemplateActions1\",\"overrides\":[],\"properties\":[{\"default\":0,\"kind\":null,\"name\":\"open_modal\"},{\"default\":0,\"kind\":null,\"name\":\"close_modal\"}]}],\"roots\":{\"references\":[{\"attributes\":{\"align\":[\"start\",\"center\"],\"background\":\"red\",\"children\":[{\"id\":\"1168\"}],\"height_policy\":\"max\",\"margin\":[0,0,0,0],\"name\":\"Column00137\",\"sizing_mode\":\"stretch_height\",\"width_policy\":\"max\"},\"id\":\"1167\",\"type\":\"Column\"},{\"attributes\":{\"client_comm_id\":\"2e29d53239fd4252aab781ad5228573e\",\"comm_id\":\"4e405deabbe140818ddd1d33964759bd\",\"plot_id\":\"1167\"},\"id\":\"1169\",\"type\":\"panel.models.comm_manager.CommManager\"},{\"attributes\":{\"bundle\":{\"spec\":{\"model_id\":\"ecb4d2161aca4afb88c7f4d0387e1159\",\"version_major\":2,\"version_minor\":0},\"state\":{\"state\":{\"16d245765f6044a9a755b6cb973efbbb\":{\"model_module\":\"@jupyter-widgets/base\",\"model_module_version\":\"1.2.0\",\"model_name\":\"LayoutModel\",\"state\":{}},\"2ed076e14b0b4f36a42108000597c039\":{\"model_module\":\"@jupyter-widgets/controls\",\"model_module_version\":\"1.5.0\",\"model_name\":\"DescriptionStyleModel\",\"state\":{}},\"304cc3df04704617a00f8a06fe1cfcb5\":{\"model_module\":\"@jupyter-widgets/controls\",\"model_module_version\":\"1.5.0\",\"model_name\":\"CheckboxModel\",\"state\":{\"_dom_classes\":[],\"description\":\"Log Intensity\",\"indent\":false,\"layout\":\"IPY_MODEL_ba52936318594a8ea5924233ab8a763f\",\"style\":\"IPY_MODEL_be0339e65aa94462bde0fb4b96c22490\"}},\"309292afc72e4e6183d1819e9a8e948e\":{\"model_module\":\"@jupyter-widgets/controls\",\"model_module_version\":\"1.5.0\",\"model_name\":\"AccordionModel\",\"state\":{\"_dom_classes\":[],\"_titles\":{\"0\":\"View motors\"},\"children\":[\"IPY_MODEL_aee009bde5844d429e512cca635e60fc\"],\"layout\":\"IPY_MODEL_83ad7665eb4544ce88cfece117f1714a\",\"selected_index\":null}},\"7059223714a24fbfac0a7ef3b67a771b\":{\"model_module\":\"@jupyter-widgets/base\",\"model_module_version\":\"1.2.0\",\"model_name\":\"LayoutModel\",\"state\":{\"flex_flow\":\"row nowrap\",\"justify_content\":\"center\",\"width\":\"auto\"}},\"76e41e337fc641f38364a3d7297915d3\":{\"model_module\":\"@jupyter-widgets/controls\",\"model_module_version\":\"1.5.0\",\"model_name\":\"IntSliderModel\",\"state\":{\"_dom_classes\":[],\"description\":\"Scan index\",\"layout\":\"IPY_MODEL_ba52936318594a8ea5924233ab8a763f\",\"max\":64,\"style\":\"IPY_MODEL_85ad6228b79442c5866764614ba985ab\",\"value\":19}},\"79c682dff68f4653af779e3752826856\":{\"model_module\":\"@jupyter-widgets/base\",\"model_module_version\":\"1.2.0\",\"model_name\":\"LayoutModel\",\"state\":{\"border\":\"2px solid grey\",\"display\":\"flex\",\"flex_flow\":\"column\",\"padding\":\"2px\",\"width\":\"auto\"}},\"7d0b833c0dec4ae4984d77aade9a77c8\":{\"model_module\":\"@jupyter-widgets/base\",\"model_module_version\":\"1.2.0\",\"model_name\":\"LayoutModel\",\"state\":{}},\"7d4ff90a9afe477dbf0db579558c7d5f\":{\"model_module\":\"@jupyter-widgets/controls\",\"model_module_version\":\"1.5.0\",\"model_name\":\"DescriptionStyleModel\",\"state\":{}},\"83ad7665eb4544ce88cfece117f1714a\":{\"model_module\":\"@jupyter-widgets/base\",\"model_module_version\":\"1.2.0\",\"model_name\":\"LayoutModel\",\"state\":{}},\"85ad6228b79442c5866764614ba985ab\":{\"model_module\":\"@jupyter-widgets/controls\",\"model_module_version\":\"1.5.0\",\"model_name\":\"SliderStyleModel\",\"state\":{}},\"8946633fc49f47f59e8d5982f4b9fa1c\":{\"model_module\":\"@jupyter-widgets/controls\",\"model_module_version\":\"1.5.0\",\"model_name\":\"TextModel\",\"state\":{\"_dom_classes\":[],\"description\":\"Debug:\",\"layout\":\"IPY_MODEL_7d0b833c0dec4ae4984d77aade9a77c8\",\"placeholder\":\"Type something\",\"style\":\"IPY_MODEL_7d4ff90a9afe477dbf0db579558c7d5f\",\"value\":\"All good\"}},\"930c4bd330dd49cb8cee9218c9e6a620\":{\"model_module\":\"@jupyter-widgets/controls\",\"model_module_version\":\"1.5.0\",\"model_name\":\"CheckboxModel\",\"state\":{\"_dom_classes\":[],\"description\":\"Crosshair\",\"indent\":false,\"layout\":\"IPY_MODEL_ba52936318594a8ea5924233ab8a763f\",\"style\":\"IPY_MODEL_9c86419662b44c30846c01884442b9d5\"}},\"9c86419662b44c30846c01884442b9d5\":{\"model_module\":\"@jupyter-widgets/controls\",\"model_module_version\":\"1.5.0\",\"model_name\":\"DescriptionStyleModel\",\"state\":{}},\"9e2b23f7fc34470b8088b2034993cd94\":{\"model_module\":\"@jupyter-widgets/controls\",\"model_module_version\":\"1.5.0\",\"model_name\":\"DropdownModel\",\"state\":{\"_dom_classes\":[],\"_options_labels\":[\"ct_exp2\",\"ct_opt1\",\"mpx1x4\",\"mpx1x4_dbeam\",\"mpx1x4_dbeam_min\",\"mpx1x4_mpx4int\",\"mpx1x4_roi1\",\"mpx1x4_roi1_min\",\"mpx1x4_roi2\",\"mpx1x4_roi2_min\",\"mpx1x4_roi3\",\"mpx1x4_roi3_min\",\"mpx1x4_roi4\",\"mpx1x4_roi4_min\",\"pix_position\",\"piy_position\",\"raw_adc3\",\"raw_pix_adc\",\"raw_piy_adc\",\"raw_time\",\"raw_z_adc\",\"time\"],\"description\":\"ROI:\",\"index\":5,\"layout\":\"IPY_MODEL_ba52936318594a8ea5924233ab8a763f\",\"style\":\"IPY_MODEL_e5e03450d3f64ab1a87a5eb6f783538d\"}},\"a432ddf72f30434787d8711511a8f387\":{\"model_module\":\"@jupyter-widgets/base\",\"model_module_version\":\"1.2.0\",\"model_name\":\"LayoutModel\",\"state\":{}},\"a96872363b4847df8c53d12b3768a3d8\":{\"model_module\":\"@jupyter-widgets/controls\",\"model_module_version\":\"1.5.0\",\"model_name\":\"HTMLModel\",\"state\":{\"_dom_classes\":[],\"layout\":\"IPY_MODEL_16d245765f6044a9a755b6cb973efbbb\",\"style\":\"IPY_MODEL_c9105de15efe4a3e858a2609e5330a11\",\"value\":\"<div>\\n<style>\\n    .specs tbody {\\n        font-family: Liberation Sans, sans-serif ;\\n        font-size: small ;\\n        text-align: right ;\\n    }\\n</style>\\n<table class=\\\"specs rendered_html output_html\\\">\\n  <tbody>\\n    <tr>\\n      <th>Command</th>\\n      <td>asxdm( pix, 5.0, 95.0, 180, piy, 5.0, 95.0, 180, 0.01 )</td>\\n    </tr>\\n    <tr>\\n      <th>Datetime</th>\\n      <td>Jun 01 | 04:21:10</td>\\n    </tr>\\n  </tbody>\\n</table>\\n</div>\"}},\"aee009bde5844d429e512cca635e60fc\":{\"model_module\":\"@jupyter-widgets/controls\",\"model_module_version\":\"1.5.0\",\"model_name\":\"HTMLModel\",\"state\":{\"_dom_classes\":[],\"layout\":\"IPY_MODEL_a432ddf72f30434787d8711511a8f387\",\"style\":\"IPY_MODEL_2ed076e14b0b4f36a42108000597c039\",\"value\":\"<div>\\n<table class=\\\"specs rendered_html output_html\\\">\\n  <tbody>\\n    <tr>\\n      <th>crlth1</th>\\n      <td>-0.10000</td>\\n    </tr>\\n    <tr>\\n      <th>crlth2</th>\\n      <td>0.00000</td>\\n    </tr>\\n    <tr>\\n      <th>crlx</th>\\n      <td>31.81000</td>\\n    </tr>\\n    <tr>\\n      <th>crly</th>\\n      <td>-42.67349</td>\\n    </tr>\\n    <tr>\\n      <th>crlz</th>\\n      <td>30.94460</td>\\n    </tr>\\n    <tr>\\n      <th>csy</th>\\n      <td>-2067.32400</td>\\n    </tr>\\n    <tr>\\n      <th>csz</th>\\n      <td>6075.22800</td>\\n    </tr>\\n    <tr>\\n      <th>delta</th>\\n      <td>82.33378</td>\\n    </tr>\\n    <tr>\\n      <th>eta</th>\\n      <td>67.70625</td>\\n    </tr>\\n    <tr>\\n      <th>fzpx</th>\\n      <td>147381.18800</td>\\n    </tr>\\n    <tr>\\n      <th>fzpy</th>\\n      <td>1348.78400</td>\\n    </tr>\\n    <tr>\\n      <th>fzpz</th>\\n      <td>-2659.13500</td>\\n    </tr>\\n    <tr>\\n      <th>microy</th>\\n      <td>30.00000</td>\\n    </tr>\\n    <tr>\\n      <th>mpxy</th>\\n      <td>0.00000</td>\\n    </tr>\\n    <tr>\\n      <th>mpxz</th>\\n      <td>0.00000</td>\\n    </tr>\\n    <tr>\\n      <th>nu</th>\\n      <td>0.30000</td>\\n    </tr>\\n    <tr>\\n      <th>osay</th>\\n      <td>5560.35500</td>\\n    </tr>\\n    <tr>\\n      <th>osaz</th>\\n      <td>8392.54300</td>\\n    </tr>\\n    <tr>\\n      <th>phi</th>\\n      <td>73.45000</td>\\n    </tr>\\n    <tr>\\n      <th>pix</th>\\n      <td>50.00000</td>\\n    </tr>\\n    <tr>\\n      <th>piy</th>\\n      <td>50.00000</td>\\n    </tr>\\n    <tr>\\n      <th>piz</th>\\n      <td>3.15468</td>\\n    </tr>\\n    <tr>\\n      <th>robx</th>\\n      <td>-0.29995</td>\\n    </tr>\\n    <tr>\\n      <th>roby</th>\\n      <td>-0.37004</td>\\n    </tr>\\n    <tr>\\n      <th>robz</th>\\n      <td>-0.00000</td>\\n    </tr>\\n    <tr>\\n      <th>s6hg</th>\\n      <td>0.40000</td>\\n    </tr>\\n    <tr>\\n      <th>s6ho</th>\\n      <td>0.00000</td>\\n    </tr>\\n    <tr>\\n      <th>s6vg</th>\\n      <td>0.40000</td>\\n    </tr>\\n    <tr>\\n      <th>s6vo</th>\\n      <td>0.00000</td>\\n    </tr>\\n    <tr>\\n      <th>sim_nrj</th>\\n      <td>10.38000</td>\\n    </tr>\\n    <tr>\\n      <th>simmotEH</th>\\n      <td>1.00000</td>\\n    </tr>\\n    <tr>\\n      <th>tobx</th>\\n      <td>-0.76836</td>\\n    </tr>\\n    <tr>\\n      <th>toby</th>\\n      <td>0.38949</td>\\n    </tr>\\n    <tr>\\n      <th>tobz</th>\\n      <td>0.08124</td>\\n    </tr>\\n  </tbody>\\n</table>\\n</div>\"}},\"ba52936318594a8ea5924233ab8a763f\":{\"model_module\":\"@jupyter-widgets/base\",\"model_module_version\":\"1.2.0\",\"model_name\":\"LayoutModel\",\"state\":{\"width\":\"auto\"}},\"bce102ab1e1149cc9817e84d5d0a4300\":{\"model_module\":\"@jupyter-widgets/controls\",\"model_module_version\":\"1.5.0\",\"model_name\":\"HBoxModel\",\"state\":{\"_dom_classes\":[],\"children\":[\"IPY_MODEL_304cc3df04704617a00f8a06fe1cfcb5\",\"IPY_MODEL_930c4bd330dd49cb8cee9218c9e6a620\"],\"layout\":\"IPY_MODEL_7059223714a24fbfac0a7ef3b67a771b\"}},\"be0339e65aa94462bde0fb4b96c22490\":{\"model_module\":\"@jupyter-widgets/controls\",\"model_module_version\":\"1.5.0\",\"model_name\":\"DescriptionStyleModel\",\"state\":{}},\"c9105de15efe4a3e858a2609e5330a11\":{\"model_module\":\"@jupyter-widgets/controls\",\"model_module_version\":\"1.5.0\",\"model_name\":\"DescriptionStyleModel\",\"state\":{}},\"e5e03450d3f64ab1a87a5eb6f783538d\":{\"model_module\":\"@jupyter-widgets/controls\",\"model_module_version\":\"1.5.0\",\"model_name\":\"DescriptionStyleModel\",\"state\":{}},\"ecb4d2161aca4afb88c7f4d0387e1159\":{\"model_module\":\"@jupyter-widgets/controls\",\"model_module_version\":\"1.5.0\",\"model_name\":\"VBoxModel\",\"state\":{\"_dom_classes\":[],\"children\":[\"IPY_MODEL_8946633fc49f47f59e8d5982f4b9fa1c\",\"IPY_MODEL_9e2b23f7fc34470b8088b2034993cd94\",\"IPY_MODEL_76e41e337fc641f38364a3d7297915d3\",\"IPY_MODEL_bce102ab1e1149cc9817e84d5d0a4300\",\"IPY_MODEL_a96872363b4847df8c53d12b3768a3d8\",\"IPY_MODEL_309292afc72e4e6183d1819e9a8e948e\"],\"layout\":\"IPY_MODEL_79c682dff68f4653af779e3752826856\"}}},\"version_major\":2,\"version_minor\":0}},\"margin\":[5,5,5,5]},\"id\":\"1168\",\"type\":\"panel.models.ipywidget.IPyWidget\"}],\"root_ids\":[\"1167\",\"1169\"]},\"title\":\"Bokeh Application\",\"version\":\"2.4.3\"}};\n",
       "    var render_items = [{\"docid\":\"d6afe24e-18f3-48d4-a2b6-f1bd06f5b634\",\"root_ids\":[\"1167\"],\"roots\":{\"1167\":\"11a8fc72-2d7d-4a00-841e-5282557cd58d\"}}];\n",
       "    root.Bokeh.embed.embed_items_notebook(docs_json, render_items);\n",
       "  }\n",
       "  if (root.Bokeh !== undefined && root.Bokeh.Panel !== undefined) {\n",
       "    embed_document(root);\n",
       "  } else {\n",
       "    var attempts = 0;\n",
       "    var timer = setInterval(function(root) {\n",
       "      if (root.Bokeh !== undefined && root.Bokeh.Panel !== undefined) {\n",
       "        clearInterval(timer);\n",
       "        embed_document(root);\n",
       "      } else if (document.readyState == \"complete\") {\n",
       "        attempts++;\n",
       "        if (attempts > 200) {\n",
       "          clearInterval(timer);\n",
       "          console.log(\"Bokeh: ERROR: Unable to run BokehJS code because BokehJS library is missing\");\n",
       "        }\n",
       "      }\n",
       "    }, 25, root)\n",
       "  }\n",
       "})(window);</script>"
      ],
      "text/plain": [
       "Column(align=('start', 'center'), background='red', height_policy='max', sizing_mode='stretch_height', width_policy='max')\n",
       "    [0] IPyWidget(VBox)"
      ]
     },
     "execution_count": 9,
     "metadata": {
      "application/vnd.holoviews_exec.v0+json": {
       "id": "1167"
      }
     },
     "output_type": "execute_result"
    }
   ],
   "source": [
    "pn.Column(\n",
    "    viz.selector,\n",
    "    background=\"red\",\n",
    "    align=(\"start\", \"center\"),\n",
    "    sizing_mode=\"stretch_height\",\n",
    "    width_policy=\"max\",\n",
    "    height_policy=\"max\",\n",
    ")"
   ]
  },
  {
   "cell_type": "code",
   "execution_count": 12,
   "id": "e1ff0c4a",
   "metadata": {},
   "outputs": [],
   "source": [
    "# pn.pane.Bokeh(viz.bk_fig)"
   ]
  },
  {
   "cell_type": "code",
   "execution_count": 4,
   "id": "7ffff563",
   "metadata": {},
   "outputs": [],
   "source": [
    "roidata = viz.roidata\n",
    "pix, piy = viz.piezo_motorpos.values()"
   ]
  },
  {
   "cell_type": "code",
   "execution_count": 5,
   "id": "3cd9c756",
   "metadata": {},
   "outputs": [],
   "source": [
    "from bokeh import models as bk_models\n",
    "from bokeh import plotting as bk_plotting"
   ]
  },
  {
   "cell_type": "code",
   "execution_count": 5,
   "id": "652651f2",
   "metadata": {},
   "outputs": [
    {
     "ename": "NameError",
     "evalue": "name 'bk_models' is not defined",
     "output_type": "error",
     "traceback": [
      "\u001b[0;31m---------------------------------------------------------------------------\u001b[0m",
      "\u001b[0;31mNameError\u001b[0m                                 Traceback (most recent call last)",
      "Input \u001b[0;32mIn [5]\u001b[0m, in \u001b[0;36m<cell line: 1>\u001b[0;34m()\u001b[0m\n\u001b[0;32m----> 1\u001b[0m bk_roidatasource \u001b[38;5;241m=\u001b[39m \u001b[43mbk_models\u001b[49m\u001b[38;5;241m.\u001b[39mColumnDataSource(data\u001b[38;5;241m=\u001b[39m\u001b[38;5;28mdict\u001b[39m(roidata\u001b[38;5;241m=\u001b[39m[roidata], x\u001b[38;5;241m=\u001b[39m[pix\u001b[38;5;241m.\u001b[39mmin()], y\u001b[38;5;241m=\u001b[39m[piy\u001b[38;5;241m.\u001b[39mmin()], dw\u001b[38;5;241m=\u001b[39m[pix\u001b[38;5;241m.\u001b[39mmax()], dh\u001b[38;5;241m=\u001b[39m[piy\u001b[38;5;241m.\u001b[39mmax()]))\n",
      "\u001b[0;31mNameError\u001b[0m: name 'bk_models' is not defined"
     ]
    }
   ],
   "source": [
    "bk_roidatasource = bk_models.ColumnDataSource(\n",
    "    data=dict(\n",
    "        roidata=[roidata], x=[pix.min()], y=[piy.min()], dw=[pix.max()], dh=[piy.max()]\n",
    "    )\n",
    ")"
   ]
  },
  {
   "cell_type": "code",
   "execution_count": null,
   "id": "b810f95b",
   "metadata": {},
   "outputs": [],
   "source": [
    "bk_fig = bk_plotting.figure(tools=\"pan,reset,wheel_zoom,hover\")\n",
    "bk_img = bk_fig.image(source=bk_roidatasource, image=\"roidata\", palette=\"Viridis256\")\n",
    "\n",
    "pn.pane.Bokeh(bk_fig)"
   ]
  },
  {
   "cell_type": "code",
   "execution_count": 6,
   "id": "77ebbd7f",
   "metadata": {},
   "outputs": [],
   "source": [
    "# colors = mpl.cm.viridis(roidata.flatten() / roidata.flatten().max())\n",
    "\n",
    "# bk_fig = bk_plotting.figure(tools=\"pan,reset,wheel_zoom\")\n",
    "# bk_img = bk_fig.rect(x=pix, y=piy, color=colors, width=1, height=1)\n",
    "\n",
    "# pn.pane.Bokeh(bk_fig)\n",
    "\n",
    "# colors = mpl.cm.viridis(roidata.flatten() / roidata.flatten().max())\n",
    "\n",
    "# bk_fig = bk_plotting.figure(tools=\"pan,reset,wheel_zoom\")\n",
    "# bk_img = bk_fig.rect(x=pix, y=piy, color=colors, width=1, height=1)\n",
    "\n",
    "# pn.pane.Bokeh(bk_fig)\n",
    "\n",
    "# colors = mpl.cm.viridis(roidata.flatten() / roidata.flatten().max())\n",
    "\n",
    "# bk_fig = bk_plotting.figure(tools=\"pan,reset,wheel_zoom\")\n",
    "# bk_img = bk_fig.scatter(pix, piy, fill_color=colors, line_color=None)\n",
    "\n",
    "# pn.pane.Bokeh(bk_fig)\n",
    "\n",
    "# bk_fig = bk_plotting.figure(tools=\"pan,reset,wheel_zoom,hover\")\n",
    "# bk_img = bk_fig.image(image=[roidata], x=pix.min(), y=piy.min(), dw=pix.max(), dh=piy.max(), palette='Viridis256')\n",
    "\n",
    "# pn.pane.Bokeh(bk_fig)\n",
    "\n",
    "# bk_fig = bk_plotting.figure(tools=\"pan,reset,wheel_zoom,hover\", x_range=[0,180], y_range=[0,180])\n",
    "# bk_img = bk_fig.image(image=[roidata], x=[0], y=[0], dw=180, dh=180, palette='Viridis256')\n",
    "\n",
    "# pn.pane.Bokeh(bk_fig)\n",
    "\n",
    "# import holoviews as hv\n",
    "\n",
    "# hv.extension('bokeh')\n",
    "\n",
    "# hv.QuadMesh((pix.reshape(180,180), piy.reshape(180,180), roidata))"
   ]
  }
 ],
 "metadata": {
  "hide_input": false,
  "kernelspec": {
   "display_name": "sxdm-devel.slurm",
   "language": "python",
   "name": "sxdm-devel.slurm"
  },
  "language_info": {
   "codemirror_mode": {
    "name": "ipython",
    "version": 3
   },
   "file_extension": ".py",
   "mimetype": "text/x-python",
   "name": "python",
   "nbconvert_exporter": "python",
   "pygments_lexer": "ipython3",
   "version": "3.8.10"
  },
  "toc": {
   "base_numbering": 1,
   "nav_menu": {},
   "number_sections": true,
   "sideBar": true,
   "skip_h1_title": false,
   "title_cell": "Table of Contents",
   "title_sidebar": "Contents",
   "toc_cell": true,
   "toc_position": {},
   "toc_section_display": true,
   "toc_window_display": false
  }
 },
 "nbformat": 4,
 "nbformat_minor": 5
}
