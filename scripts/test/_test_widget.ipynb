{
 "cells": [
  {
   "cell_type": "markdown",
   "id": "c3328bfb",
   "metadata": {
    "toc": true
   },
   "source": [
    "<h1>Table of Contents<span class=\"tocSkip\"></span></h1>\n",
    "<div class=\"toc\"><ul class=\"toc-item\"></ul></div>"
   ]
  },
  {
   "cell_type": "code",
   "execution_count": 1,
   "id": "1980b592",
   "metadata": {},
   "outputs": [],
   "source": [
    "import sxdm\n",
    "import h5py\n",
    "import numpy as np"
   ]
  },
  {
   "cell_type": "code",
   "execution_count": 2,
   "id": "8737850f",
   "metadata": {},
   "outputs": [
    {
     "name": "stdout",
     "output_type": "stream",
     "text": [
      "\u001b[0m\u001b[01;32mGaN.cif\u001b[0m*  \u001b[01;34mMA1234\u001b[0m/\r\n"
     ]
    }
   ],
   "source": [
    "ls ../examples/data/"
   ]
  },
  {
   "cell_type": "code",
   "execution_count": 3,
   "id": "2e8c0b96",
   "metadata": {},
   "outputs": [],
   "source": [
    "path_dset = \"../examples/data/MA1234/id01/20230710/sample/sample_0001/sample_0001.h5\""
   ]
  },
  {
   "cell_type": "code",
   "execution_count": 4,
   "id": "0c69f0e3",
   "metadata": {
    "scrolled": false
   },
   "outputs": [
    {
     "name": "stderr",
     "output_type": "stream",
     "text": [
      "/tmp/ipykernel_794386/2735559165.py:1: DeprecationWarning: InspectROI is deprecated and will be removed in future releases. Use InspectSXDMCounter instead.\n",
      "  test = sxdm.widgets.bliss.InspectROI(path_dset, default_counter='mpx1x4_mpx4int')\n"
     ]
    },
    {
     "data": {
      "application/vnd.jupyter.widget-view+json": {
       "model_id": "2cdd9d30bc4a4f6594183bbe905bd7fe",
       "version_major": 2,
       "version_minor": 0
      },
      "text/plain": [
       "HBox(children=(VBox(children=(Dropdown(description='Counter:', index=16, layout=Layout(width='auto'), options=…"
      ]
     },
     "metadata": {},
     "output_type": "display_data"
    }
   ],
   "source": [
    "test = sxdm.widgets.bliss.InspectROI(path_dset, default_counter=\"mpx1x4_mpx4int\")\n",
    "test.show()"
   ]
  },
  {
   "cell_type": "code",
   "execution_count": null,
   "id": "8870b8c3",
   "metadata": {},
   "outputs": [],
   "source": []
  },
  {
   "cell_type": "code",
   "execution_count": null,
   "id": "2b70910a",
   "metadata": {},
   "outputs": [],
   "source": []
  },
  {
   "cell_type": "code",
   "execution_count": 6,
   "id": "ac7a173c",
   "metadata": {},
   "outputs": [],
   "source": [
    "import warnings"
   ]
  },
  {
   "cell_type": "code",
   "execution_count": 10,
   "id": "8f5ad22a",
   "metadata": {},
   "outputs": [
    {
     "name": "stderr",
     "output_type": "stream",
     "text": [
      "/tmp/ipykernel_777282/2377930037.py:1: UserWarning: yes\n",
      "  warnings.warn('yes')\n"
     ]
    }
   ],
   "source": [
    "warnings.warn(\"yes\", DeprecationWarning, stacklevel=2)"
   ]
  },
  {
   "cell_type": "code",
   "execution_count": 9,
   "id": "a9d7de4b",
   "metadata": {},
   "outputs": [],
   "source": [
    "from warnings import warn\n",
    "\n",
    "\n",
    "def a_deprecated_function():\n",
    "    warn(\"This method is deprecated.\", DeprecationWarning, stacklevel=2)"
   ]
  },
  {
   "cell_type": "code",
   "execution_count": 10,
   "id": "f7541618",
   "metadata": {},
   "outputs": [
    {
     "name": "stderr",
     "output_type": "stream",
     "text": [
      "/tmp/ipykernel_779423/2900159305.py:1: DeprecationWarning: This method is deprecated.\n",
      "  a_deprecated_function()\n"
     ]
    }
   ],
   "source": [
    "a_deprecated_function()"
   ]
  },
  {
   "cell_type": "code",
   "execution_count": null,
   "id": "3a1952d9",
   "metadata": {},
   "outputs": [],
   "source": [
    "test = sxdm.widgets.bliss.Inspect4DSXDM(path_dset, \"1.1\")\n",
    "test.iflog.value = True\n",
    "test.show()"
   ]
  },
  {
   "cell_type": "code",
   "execution_count": 16,
   "id": "50649668",
   "metadata": {},
   "outputs": [],
   "source": [
    "with h5py.File(path_dset) as h5f:\n",
    "    arr = h5f[\"1.1/measurement/mpx1x4\"][()]\n",
    "    arr = arr.reshape(60, 60, 516, 516)"
   ]
  },
  {
   "cell_type": "code",
   "execution_count": 19,
   "id": "882f33d7",
   "metadata": {},
   "outputs": [
    {
     "data": {
      "application/vnd.jupyter.widget-view+json": {
       "model_id": "",
       "version_major": 2,
       "version_minor": 0
      },
      "text/plain": [
       "HBox(children=(VBox(children=(Checkbox(value=False, description='Log Intensity', indent=False, layout=Layout(w…"
      ]
     },
     "metadata": {},
     "output_type": "display_data"
    }
   ],
   "source": [
    "test = sxdm.widgets.Inspect4DArray(arr)\n",
    "test.show()"
   ]
  }
 ],
 "metadata": {
  "hide_input": false,
  "kernelspec": {
   "display_name": "sxdm-devel.slurm",
   "language": "python",
   "name": "sxdm-devel.slurm"
  },
  "language_info": {
   "codemirror_mode": {
    "name": "ipython",
    "version": 3
   },
   "file_extension": ".py",
   "mimetype": "text/x-python",
   "name": "python",
   "nbconvert_exporter": "python",
   "pygments_lexer": "ipython3",
   "version": "3.8.10"
  },
  "toc": {
   "base_numbering": 1,
   "nav_menu": {},
   "number_sections": true,
   "sideBar": true,
   "skip_h1_title": false,
   "title_cell": "Table of Contents",
   "title_sidebar": "Contents",
   "toc_cell": true,
   "toc_position": {},
   "toc_section_display": true,
   "toc_window_display": false
  }
 },
 "nbformat": 4,
 "nbformat_minor": 5
}
