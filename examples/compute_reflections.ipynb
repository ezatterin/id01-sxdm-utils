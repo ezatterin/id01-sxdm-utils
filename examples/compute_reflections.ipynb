{
 "cells": [
  {
   "cell_type": "markdown",
   "metadata": {
    "toc": true
   },
   "source": [
    "<h1>Table of Contents<span class=\"tocSkip\"></span></h1>\n",
    "<div class=\"toc\"><ul class=\"toc-item\"></ul></div>"
   ]
  },
  {
   "cell_type": "code",
   "execution_count": 1,
   "metadata": {},
   "outputs": [],
   "source": [
    "import sxdm\n",
    "import id01lib\n",
    "import numpy as np\n",
    "import xrayutilities as xu"
   ]
  },
  {
   "cell_type": "code",
   "execution_count": 9,
   "metadata": {},
   "outputs": [
    {
     "name": "stdout",
     "output_type": "stream",
     "text": [
      "XU.materials: element N used instead of N3-\n",
      "\n",
      "\teta: 57.0195\n",
      " \tphi: -0.0000\n",
      " \tdel: 63.7322\n",
      "\n"
     ]
    }
   ],
   "source": [
    "mat = xu.materials.Crystal.fromCIF('./data/GaN.cif') \n",
    "\n",
    "qconv = xu.QConversion(('y-', 'z-'), ('y-'), (1,0,0)) # eta, phi, del\n",
    "hxrd = xu.FourC(mat.Q(1,0,0), mat.Q(0,0,1), en=10000, qconv=qconv)\n",
    "\n",
    "def get_angles(hkl):\n",
    "    \n",
    "    # q-space coordinates of hkl \n",
    "    q_material = mat.Q(hkl)\n",
    "    q_lab = hxrd.Transform(q_material)\n",
    "    \n",
    "    # angular limits -- eta, phi, delta\n",
    "    bounds = ((0, 110), (-180,180), (0, 140))\n",
    "\n",
    "    # compute diffractometer angles from q-space coords.\n",
    "    ang, qerror, errcode = xu.Q2AngFit(q_lab, hxrd, bounds)\n",
    "    \n",
    "    return np.round(ang, 5)\n",
    "\n",
    "hkl = (1,0,4) \n",
    "\n",
    "print(\"\")\n",
    "print(*[f'\\t{x}: {y:.4f}\\n' for x,y in zip('eta,phi,del'.split(','), get_angles(hkl))])"
   ]
  }
 ],
 "metadata": {
  "hide_input": false,
  "kernelspec": {
   "display_name": "sxdm-devel.slurm",
   "language": "python",
   "name": "sxdm-devel.slurm"
  },
  "language_info": {
   "codemirror_mode": {
    "name": "ipython",
    "version": 3
   },
   "file_extension": ".py",
   "mimetype": "text/x-python",
   "name": "python",
   "nbconvert_exporter": "python",
   "pygments_lexer": "ipython3",
   "version": "3.8.10"
  },
  "toc": {
   "base_numbering": 1,
   "nav_menu": {},
   "number_sections": true,
   "sideBar": true,
   "skip_h1_title": false,
   "title_cell": "Table of Contents",
   "title_sidebar": "Contents",
   "toc_cell": true,
   "toc_position": {},
   "toc_section_display": true,
   "toc_window_display": false
  }
 },
 "nbformat": 4,
 "nbformat_minor": 4
}
