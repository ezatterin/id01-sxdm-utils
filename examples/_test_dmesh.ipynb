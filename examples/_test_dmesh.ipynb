{
 "cells": [
  {
   "cell_type": "markdown",
   "id": "c3328bfb",
   "metadata": {
    "toc": true
   },
   "source": [
    "<h1>Table of Contents<span class=\"tocSkip\"></span></h1>\n",
    "<div class=\"toc\"><ul class=\"toc-item\"></ul></div>"
   ]
  },
  {
   "cell_type": "code",
   "execution_count": 1,
   "id": "143695f1",
   "metadata": {},
   "outputs": [
    {
     "data": {
      "text/html": [
       "\n",
       "<style>\n",
       "    .container {width:98%}\n",
       "<\\style>\n"
      ],
      "text/plain": [
       "<IPython.core.display.HTML object>"
      ]
     },
     "metadata": {},
     "output_type": "display_data"
    }
   ],
   "source": [
    "%%html\n",
    "\n",
    "<style>\n",
    "    .container {width:98%}\n",
    "<\\style>"
   ]
  },
  {
   "cell_type": "code",
   "execution_count": 1,
   "id": "fb0a7ecc",
   "metadata": {},
   "outputs": [],
   "source": [
    "import sys\n",
    "\n",
    "sys.path.insert(0, '/home/zatterin/repos/id01-sxdm-utils/')"
   ]
  },
  {
   "cell_type": "code",
   "execution_count": 2,
   "id": "1980b592",
   "metadata": {},
   "outputs": [],
   "source": [
    "import sxdm\n",
    "import numpy as np\n",
    "import h5py\n",
    "\n",
    "from h5glance import H5Glance as h5p"
   ]
  },
  {
   "cell_type": "code",
   "execution_count": 3,
   "id": "86a981f0",
   "metadata": {},
   "outputs": [],
   "source": [
    "path_mesh = '/data/visitor/hc4755/id01/VO2_vshape/VO2_vshape_0020/VO2_vshape_0020.h5'"
   ]
  },
  {
   "cell_type": "code",
   "execution_count": 4,
   "id": "03cfa249",
   "metadata": {},
   "outputs": [],
   "source": [
    "with h5py.File(path_mesh, 'r') as h5f:\n",
    "    nscans = len(h5f.keys())\n",
    "    command = h5f[f'1.1/title'][()].decode()\n",
    "    test = h5f['1.1/measurement/mpx1x4_roi2'][()]"
   ]
  },
  {
   "cell_type": "code",
   "execution_count": 5,
   "id": "c34dd528",
   "metadata": {
    "scrolled": false
   },
   "outputs": [],
   "source": [
    "# h5p(path_mesh)"
   ]
  },
  {
   "cell_type": "code",
   "execution_count": 9,
   "id": "cf6f20ea",
   "metadata": {},
   "outputs": [
    {
     "data": {
      "application/vnd.jupyter.widget-view+json": {
       "model_id": "9228df89ff7c4fc89b20f68947264637",
       "version_major": 2,
       "version_minor": 0
      },
      "text/plain": [
       "HBox(children=(VBox(children=(Dropdown(description='ROI:', index=29, layout=Layout(width='auto'), options=('ac…"
      ]
     },
     "metadata": {},
     "output_type": "display_data"
    }
   ],
   "source": [
    "viz = sxdm.widgets.bliss.InspectROI(path_mesh, init_scan_no='20.1', fixed_clims=[0,1000])\n"
   ]
  },
  {
   "cell_type": "code",
   "execution_count": null,
   "id": "c1c51ed8",
   "metadata": {},
   "outputs": [],
   "source": [
    "viz."
   ]
  }
 ],
 "metadata": {
  "hide_input": false,
  "kernelspec": {
   "display_name": "sxdm-devel.slurm",
   "language": "python",
   "name": "sxdm-devel.slurm"
  },
  "language_info": {
   "codemirror_mode": {
    "name": "ipython",
    "version": 3
   },
   "file_extension": ".py",
   "mimetype": "text/x-python",
   "name": "python",
   "nbconvert_exporter": "python",
   "pygments_lexer": "ipython3",
   "version": "3.8.10"
  },
  "toc": {
   "base_numbering": 1,
   "nav_menu": {},
   "number_sections": true,
   "sideBar": true,
   "skip_h1_title": false,
   "title_cell": "Table of Contents",
   "title_sidebar": "Contents",
   "toc_cell": true,
   "toc_position": {},
   "toc_section_display": true,
   "toc_window_display": false
  }
 },
 "nbformat": 4,
 "nbformat_minor": 5
}
