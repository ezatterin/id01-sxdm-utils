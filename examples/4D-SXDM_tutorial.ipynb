{
 "cells": [
  {
   "cell_type": "markdown",
   "metadata": {
    "toc": true
   },
   "source": [
    "<h1>Table of Contents<span class=\"tocSkip\"></span></h1>\n",
    "<div class=\"toc\"><ul class=\"toc-item\"><li><span><a href=\"#Installation\" data-toc-modified-id=\"Installation-1\"><span class=\"toc-item-num\">1&nbsp;&nbsp;</span>Installation</a></span></li><li><span><a href=\"#Tutorial\" data-toc-modified-id=\"Tutorial-2\"><span class=\"toc-item-num\">2&nbsp;&nbsp;</span>Tutorial</a></span><ul class=\"toc-item\"><li><span><a href=\"#Introduction\" data-toc-modified-id=\"Introduction-2.1\"><span class=\"toc-item-num\">2.1&nbsp;&nbsp;</span>Introduction</a></span></li><li><span><a href=\"#Explore\" data-toc-modified-id=\"Explore-2.2\"><span class=\"toc-item-num\">2.2&nbsp;&nbsp;</span>Explore</a></span></li><li><span><a href=\"#Compute\" data-toc-modified-id=\"Compute-2.3\"><span class=\"toc-item-num\">2.3&nbsp;&nbsp;</span>Compute</a></span></li></ul></li></ul></div>"
   ]
  },
  {
   "cell_type": "markdown",
   "metadata": {},
   "source": [
    "# 2D-SXDM tutorial"
   ]
  },
  {
   "cell_type": "markdown",
   "metadata": {},
   "source": [
    "This notebook introduces basic exploration and preprocessing of 2D-SXDM data obatined on beamline ID01 @ ESRF using the in-house developed library `sxdm`. \n",
    "\n",
    "**Requirements**:\n",
    "* An ESRF single sign-on (SSO)\n",
    "* Basic knowledge of [Jupyter notebooks](https://jupyter.org/)"
   ]
  },
  {
   "cell_type": "markdown",
   "metadata": {},
   "source": [
    "## Installation"
   ]
  },
  {
   "cell_type": "markdown",
   "metadata": {},
   "source": [
    "This notebook is meant to be run on the [Jupyter-SLURM hub](https://jupyter-slurm.esrf.fr/). Instructions on how to achieve this are given in the [README](https://gitlab.esrf.fr/id01-science/id01-sxdm-utils/-/blob/main/README.md) of the `sxdm` repository (requires SSO for access). You should be reading this from within jupyter-slurm!\n",
    "\n",
    "To run the notebook a few python dependecies are necessary. To simplify things, these are stored in a virtual environment accessible from jupyter-slurm and maintained by the ID01 staff. To install the virtual environment run the cell below:"
   ]
  },
  {
   "cell_type": "code",
   "execution_count": null,
   "metadata": {},
   "outputs": [],
   "source": [
    "%%bash\n",
    "\n",
    "pip3 install ipykernel\n",
    "source /data/id01/inhouse/data_analysis/software/pyenvs/sxdm.slurm/bin/activate\n",
    "python3 -m ipykernel install --user --name sxdm.slurm"
   ]
  },
  {
   "cell_type": "markdown",
   "metadata": {},
   "source": [
    "Now refresh the webpage. One this is done, change the active kernel by using the menu bar on the top and clicking on `Kernel > Change kernel > sxdm.slurm`. You are now ready to run the notebook!"
   ]
  },
  {
   "cell_type": "markdown",
   "metadata": {},
   "source": [
    "## Tutorial"
   ]
  },
  {
   "cell_type": "markdown",
   "metadata": {},
   "source": [
    "### Introduction"
   ]
  },
  {
   "cell_type": "markdown",
   "metadata": {},
   "source": [
    "2D-SXDM refers to SXDM data collected at a single angle, i.e. without rocking the sample. This corresponds to the output of individual `pscando` or `dpscando` commands run in `PSIC_NANO>` on ID01.\n",
    "\n",
    "During an experiment data is saved on the ESRF NICE cluster. Each experiment has a directory tree dedicated to it. For example, the inhouse `blc12578` experiment is located in `/data/id01/inhouse/data/BLC/blc12578_zatterin/id01/`. This experiment investigated hillock-shaped defects in an AlGaN single crystal. Several sub-folder are present the folder:"
   ]
  },
  {
   "cell_type": "code",
   "execution_count": 1,
   "metadata": {},
   "outputs": [
    {
     "name": "stdout",
     "output_type": "stream",
     "text": [
      "total 99K\r\n",
      "drwxrwxrwx 4 opid01 id01 4.0K Jan 19  2022 \u001b[0m\u001b[34;42manalysis\u001b[0m/\r\n",
      "-rw-r--r-- 1 opid01 id01  90K Nov 21  2020 blc12578_zatterin-id01.h5\r\n",
      "drwxrwxr-x 3 opid01 id01 4.0K Nov 21  2020 \u001b[01;34mdetector\u001b[0m/\r\n",
      "drwxrwxr-x 3 opid01 id01 4.0K Nov 21  2020 \u001b[01;34mNCE_02885\u001b[0m/\r\n",
      "drwxrwxr-x 3 opid01 id01 4.0K Nov 21  2020 \u001b[01;34mspec\u001b[0m/\r\n",
      "drwxrwxr-x 3 opid01 id01 4.0K Nov 21  2020 \u001b[01;34mss\u001b[0m/\r\n"
     ]
    }
   ],
   "source": [
    "%ls -lh /data/id01/inhouse/data/BLC/blc12578_zatterin/id01/"
   ]
  },
  {
   "cell_type": "markdown",
   "metadata": {},
   "source": [
    "The folder `NCE_02885` corresponds to the name of a sample and was generated with the `ID01newsample` command on `PSIC_NANO>`. This command itself creates a directory tree for any given sample, isolating its data from the rest. The directory tree within this folder looks as follows:"
   ]
  },
  {
   "cell_type": "code",
   "execution_count": 2,
   "metadata": {},
   "outputs": [
    {
     "name": "stdout",
     "output_type": "stream",
     "text": [
      "\u001b[01;34m/data/id01/inhouse/data/BLC/blc12578_zatterin/id01/NCE_02885\u001b[00m\n",
      "└── \u001b[01;34mKMAP_2020_11_21_231201\u001b[00m\n",
      "    ├── blc12578_zatterin-NCE_02885-KMAP_2020_11_21_231201.h5\n",
      "    ├── \u001b[01;34mdetector\u001b[00m\n",
      "    ├── \u001b[01;34mgallery\u001b[00m\n",
      "    └── \u001b[01;34mspec\u001b[00m\n",
      "\n",
      "4 directories, 1 file\n"
     ]
    }
   ],
   "source": [
    "!tree -L 2 /data/id01/inhouse/data/BLC/blc12578_zatterin/id01/NCE_02885"
   ]
  },
  {
   "cell_type": "markdown",
   "metadata": {},
   "source": [
    "The sub-folder `KMAP_2020_11_21_231201` was generated by the command `ID01newdataset`. Its name contains a timestamp from when the command was run. Any scan run after such command was stored in this folder. The idea is to again isolate data stemming from something which, at the discretion of the user, can be though of as a \"dataset\", from the rest.\n",
    "\n",
    "Of relevance within `KMAP_2020_11_21_231201` are:\n",
    "* `detector`, containing the detector frames generated from scans;\n",
    "* `spec`, containing:\n",
    "    * `.spec` files, that store metadata from \"normal\" scans;\n",
    "    * `_fast_xxxxx.spec` files, that store metadata from piezo (SXDM) scans.\n",
    "    \n",
    "For example,"
   ]
  },
  {
   "cell_type": "code",
   "execution_count": 3,
   "metadata": {},
   "outputs": [
    {
     "name": "stdout",
     "output_type": "stream",
     "text": [
      "total 132M\r\n",
      "-rw-rw-r-- 1 opid01 id01 132M Nov 22  2020 KMAP_2020_11_21_231201_fast_00004.spec\r\n",
      "-rw-rw-r-- 1 opid01 id01  32K Nov 23  2020 KMAP_2020_11_21_231201.spec\r\n"
     ]
    }
   ],
   "source": [
    "%ls -lh /data/id01/inhouse/data/BLC/blc12578_zatterin/id01/NCE_02885/KMAP_2020_11_21_231201/spec/"
   ]
  },
  {
   "cell_type": "markdown",
   "metadata": {},
   "source": [
    "this dataset contains only two spec files. Of interest here is the `fast` one. To see what's inside it, load the `sxdm` library and a few others useful for computations later on in this notebook (it is good practice to place all imports at the beginning of a file):"
   ]
  },
  {
   "cell_type": "code",
   "execution_count": 4,
   "metadata": {},
   "outputs": [
    {
     "name": "stderr",
     "output_type": "stream",
     "text": [
      "<frozen importlib._bootstrap>:219: RuntimeWarning: scipy._lib.messagestream.MessageStream size changed, may indicate binary incompatibility. Expected 56 from C header, got 64 from PyObject\n"
     ]
    }
   ],
   "source": [
    "%matplotlib widget\n",
    "\n",
    "import numpy as np\n",
    "import matplotlib.pyplot as plt\n",
    "import sxdm"
   ]
  },
  {
   "cell_type": "markdown",
   "metadata": {},
   "source": [
    "The `utils.get_filelist` function accepts a directory and looks for `fast` spec files into it. Passing to it the experiment directory,"
   ]
  },
  {
   "cell_type": "code",
   "execution_count": 5,
   "metadata": {},
   "outputs": [],
   "source": [
    "data = sxdm.utils.get_filelist('/data/id01/inhouse/data/BLC/blc12578_zatterin/id01/')"
   ]
  },
  {
   "cell_type": "markdown",
   "metadata": {},
   "source": [
    "One obtains a (here called) `data` object - a `pandas.DataFrame` - that in the jupyter notebook is rendered as a nice table containing useful info:"
   ]
  },
  {
   "cell_type": "code",
   "execution_count": 6,
   "metadata": {},
   "outputs": [
    {
     "data": {
      "text/html": [
       "<div>\n",
       "<style scoped>\n",
       "    .dataframe tbody tr th:only-of-type {\n",
       "        vertical-align: middle;\n",
       "    }\n",
       "\n",
       "    .dataframe tbody tr th {\n",
       "        vertical-align: top;\n",
       "    }\n",
       "\n",
       "    .dataframe thead th {\n",
       "        text-align: right;\n",
       "    }\n",
       "</style>\n",
       "<table border=\"1\" class=\"dataframe\">\n",
       "  <thead>\n",
       "    <tr style=\"text-align: right;\">\n",
       "      <th></th>\n",
       "      <th>path</th>\n",
       "      <th>filename</th>\n",
       "      <th>nscans</th>\n",
       "    </tr>\n",
       "  </thead>\n",
       "  <tbody>\n",
       "    <tr>\n",
       "      <th>0</th>\n",
       "      <td>/data/id01/inhouse/data/BLC/blc12578_zatterin/...</td>\n",
       "      <td>ALIGNMENT_2020_11_21_205558_fast_00001.spec</td>\n",
       "      <td>2</td>\n",
       "    </tr>\n",
       "    <tr>\n",
       "      <th>1</th>\n",
       "      <td>/data/id01/inhouse/data/BLC/blc12578_zatterin/...</td>\n",
       "      <td>KMAP_2020_11_21_231201_fast_00004.spec</td>\n",
       "      <td>103</td>\n",
       "    </tr>\n",
       "  </tbody>\n",
       "</table>\n",
       "</div>"
      ],
      "text/plain": [
       "                                                path  \\\n",
       "0  /data/id01/inhouse/data/BLC/blc12578_zatterin/...   \n",
       "1  /data/id01/inhouse/data/BLC/blc12578_zatterin/...   \n",
       "\n",
       "                                      filename  nscans  \n",
       "0  ALIGNMENT_2020_11_21_205558_fast_00001.spec       2  \n",
       "1       KMAP_2020_11_21_231201_fast_00004.spec     103  "
      ]
     },
     "execution_count": 6,
     "metadata": {},
     "output_type": "execute_result"
    }
   ],
   "source": [
    "data"
   ]
  },
  {
   "cell_type": "markdown",
   "metadata": {},
   "source": [
    "This allows to quickly sift through the collected data. Here we are interested in the spec file discussed above and containing 103 scans. Its full path is retrieved as:"
   ]
  },
  {
   "cell_type": "code",
   "execution_count": 7,
   "metadata": {},
   "outputs": [
    {
     "name": "stdout",
     "output_type": "stream",
     "text": [
      "/data/id01/inhouse/data/BLC/blc12578_zatterin/id01/NCE_02885/KMAP_2020_11_21_231201/spec/KMAP_2020_11_21_231201_fast_00004.spec\n"
     ]
    }
   ],
   "source": [
    "path_to_specfile = data['path'][1]\n",
    "print(path_to_specfile)"
   ]
  },
  {
   "cell_type": "markdown",
   "metadata": {},
   "source": [
    "### Explore"
   ]
  },
  {
   "cell_type": "markdown",
   "metadata": {},
   "source": [
    "Now the file can then be opened like so:"
   ]
  },
  {
   "cell_type": "code",
   "execution_count": 9,
   "metadata": {},
   "outputs": [],
   "source": [
    "fsf = sxdm.io.spec.FastSpecFile(path_to_specfile)"
   ]
  },
  {
   "cell_type": "markdown",
   "metadata": {},
   "source": [
    "The `fsf` object thus gives access to the contents of `KMAP_2020_11_21_231201_fast_00004.spec`. A useful summary is obtained by simply calling it:"
   ]
  },
  {
   "cell_type": "code",
   "execution_count": 10,
   "metadata": {},
   "outputs": [
    {
     "data": {
      "text/html": [
       "<div>\n",
       "<style scoped>\n",
       "    .pscan tbody tr th {\n",
       "        vertical-align: middle;\n",
       "    }\n",
       "</style>\n",
       "<table border=\"1\" class=\"pscan\">\n",
       "  <tbody>\n",
       "    <tr style=\"text-align: right;\">\n",
       "      <th>Filename</th>\n",
       "      <td>KMAP_2020_11_21_231201_fast_00004.spec</td>\n",
       "    </tr>\n",
       "    <tr style=\"text-align: right;\">\n",
       "      <th>Number of scans</th>\n",
       "      <td>103</td>\n",
       "    </tr>\n",
       "    <tr style=\"text-align: right;\">\n",
       "      <th>Datetime</th>\n",
       "      <td>Sat 2020/11/21 23:55:25</td>\n",
       "    </tr>\n",
       "  </tbody>\n",
       "</table>\n",
       "</div>"
      ],
      "text/plain": [
       "<sxdm.io.spec.FastSpecFile at 0x150c54cf2200>"
      ]
     },
     "execution_count": 10,
     "metadata": {},
     "output_type": "execute_result"
    }
   ],
   "source": [
    "fsf"
   ]
  },
  {
   "cell_type": "markdown",
   "metadata": {},
   "source": [
    "Note that `FastSpecFile` is a subclass of `silx.io.specfile.SpecFile`. See [its documentation](http://www.silx.org/doc/silx/latest/modules/io/specfile.html) to learn what other methods, applicable to any spec file (not just fast ones), are availble.\n",
    "\n",
    "For a more insightful preview of the contents of `fsf`,  the object can be passed to the `RoiPlotter` widget. This plots the intensity falling in the interest (ROIs) that were defined during the experiment, and gives access to the position of all the motors defined within the spec session, as well as other details, when the scan was run. Interact with it!"
   ]
  },
  {
   "cell_type": "code",
   "execution_count": 12,
   "metadata": {},
   "outputs": [
    {
     "data": {
      "application/vnd.jupyter.widget-view+json": {
       "model_id": "77605ba794cd4a2c909afbba4bf14961",
       "version_major": 2,
       "version_minor": 0
      },
      "text/plain": [
       "HBox(children=(VBox(children=(Dropdown(description='Left ROI', layout=Layout(width='auto'), options=('mpx4int'…"
      ]
     },
     "metadata": {},
     "output_type": "display_data"
    }
   ],
   "source": [
    "explore_fsf = sxdm.widgets.spec.RoiPlotter(fsf)\n",
    "explore_fsf.show()"
   ]
  },
  {
   "cell_type": "markdown",
   "metadata": {},
   "source": [
    "The widget is useful also *during* an experiment to populate a logbook, as the static version of the plot can be accessed by:"
   ]
  },
  {
   "cell_type": "code",
   "execution_count": 13,
   "metadata": {},
   "outputs": [
    {
     "data": {
      "image/png": "[encoded data removed]",
      "text/plain": [
       "<Figure size 600x280 with 4 Axes>"
      ]
     },
     "execution_count": 13,
     "metadata": {},
     "output_type": "execute_result"
    }
   ],
   "source": [
    "explore_fsf.fig"
   ]
  },
  {
   "cell_type": "markdown",
   "metadata": {},
   "source": [
    "Right-clicking on the figure allows to copy it (and paste it in the logbook). The value of other objects within the wigdet can also be accessed in a similar way. A list of exposed methods is output by pressing tab after the dot, i.e. `explore_fsf.<TAB>`\n",
    "\n",
    "Once a scan index of interest has been identified, it can be accessed from `fsf` using the `numpy` slicing syntax. Using scan number 25 as an example:"
   ]
  },
  {
   "cell_type": "code",
   "execution_count": 14,
   "metadata": {
    "scrolled": false
   },
   "outputs": [
    {
     "data": {
      "text/html": [
       "<div>\n",
       "<style scoped>\n",
       "    .pscan tbody tr th {\n",
       "        vertical-align: middle;\n",
       "    }\n",
       "</style>\n",
       "<table border=\"1\" class=\"pscan\">\n",
       "  <tbody>\n",
       "    <tr style=\"text-align: right;\">\n",
       "      <th>Command</th>\n",
       "      <td>24 _pscando pix 5 95 300 piy 5 15 50 .01</td>\n",
       "    </tr>\n",
       "    <tr style=\"text-align: right;\">\n",
       "      <th>Datetime</th>\n",
       "      <td>Sun 2020/11/22 02:32:40</td>\n",
       "    </tr>\n",
       "    <tr style=\"text-align: right;\">\n",
       "      <th>Shape</th>\n",
       "      <td>(50, 300)</td>\n",
       "    </tr>\n",
       "  </tbody>\n",
       "</table>\n",
       "</div>"
      ],
      "text/plain": [
       "<sxdm.io.spec.PiezoScan at 0x150c529a99a0>"
      ]
     },
     "execution_count": 14,
     "metadata": {},
     "output_type": "execute_result"
    }
   ],
   "source": [
    "pscan = fsf[25]\n",
    "pscan"
   ]
  },
  {
   "cell_type": "markdown",
   "metadata": {},
   "source": [
    "The [spec header identifier](http://www.silx.org/doc/silx/latest/modules/io/specfile.html) for this scan is in fact `24.2` since `24.1` was interrupted. All the identifiers can be accessed by calling `fsf.keys()`. The same scan can thus be accessed with the syntax:"
   ]
  },
  {
   "cell_type": "code",
   "execution_count": 15,
   "metadata": {},
   "outputs": [
    {
     "data": {
      "text/html": [
       "<div>\n",
       "<style scoped>\n",
       "    .pscan tbody tr th {\n",
       "        vertical-align: middle;\n",
       "    }\n",
       "</style>\n",
       "<table border=\"1\" class=\"pscan\">\n",
       "  <tbody>\n",
       "    <tr style=\"text-align: right;\">\n",
       "      <th>Command</th>\n",
       "      <td>24 _pscando pix 5 95 300 piy 5 15 50 .01</td>\n",
       "    </tr>\n",
       "    <tr style=\"text-align: right;\">\n",
       "      <th>Datetime</th>\n",
       "      <td>Sun 2020/11/22 02:32:40</td>\n",
       "    </tr>\n",
       "    <tr style=\"text-align: right;\">\n",
       "      <th>Shape</th>\n",
       "      <td>(50, 300)</td>\n",
       "    </tr>\n",
       "  </tbody>\n",
       "</table>\n",
       "</div>"
      ],
      "text/plain": [
       "<sxdm.io.spec.PiezoScan at 0x150c529a9af0>"
      ]
     },
     "execution_count": 15,
     "metadata": {},
     "output_type": "execute_result"
    }
   ],
   "source": [
    "pscan = fsf['24.2']\n",
    "pscan"
   ]
  },
  {
   "cell_type": "markdown",
   "metadata": {},
   "source": [
    "The object `pscan` exposes methods to get all sorts of data and metadata pertaining the scan. Its docstring contains an explanation of each of them:"
   ]
  },
  {
   "cell_type": "code",
   "execution_count": 16,
   "metadata": {},
   "outputs": [],
   "source": [
    "pscan?"
   ]
  },
  {
   "cell_type": "markdown",
   "metadata": {},
   "source": [
    "For example, to get the value of a motor:"
   ]
  },
  {
   "cell_type": "code",
   "execution_count": 17,
   "metadata": {},
   "outputs": [
    {
     "data": {
      "text/plain": [
       "-1.9965"
      ]
     },
     "execution_count": 17,
     "metadata": {},
     "output_type": "execute_result"
    }
   ],
   "source": [
    "pscan.get_positioner('thz')"
   ]
  },
  {
   "cell_type": "markdown",
   "metadata": {},
   "source": [
    "Or the data of a ROI defined during the experiment:"
   ]
  },
  {
   "cell_type": "code",
   "execution_count": 18,
   "metadata": {},
   "outputs": [
    {
     "data": {
      "text/plain": [
       "array([[4056., 4163., 4270., ..., 4051., 4240., 3944.],\n",
       "       [4297., 4346., 4209., ..., 4178., 4123., 4157.],\n",
       "       [4261., 4256., 4307., ..., 4100., 4041., 4131.],\n",
       "       ...,\n",
       "       [4390., 4204., 4198., ..., 4308., 4250., 4287.],\n",
       "       [4247., 4240., 4378., ..., 4315., 4246., 4398.],\n",
       "       [4178., 4316., 4187., ..., 4358., 4342., 4535.]])"
      ]
     },
     "execution_count": 18,
     "metadata": {},
     "output_type": "execute_result"
    }
   ],
   "source": [
    "pscan.get_roidata('roi1')"
   ]
  },
  {
   "cell_type": "markdown",
   "metadata": {},
   "source": [
    "Let us know load a different scan (prettier for what done below):"
   ]
  },
  {
   "cell_type": "code",
   "execution_count": 19,
   "metadata": {},
   "outputs": [
    {
     "data": {
      "text/html": [
       "<div>\n",
       "<style scoped>\n",
       "    .pscan tbody tr th {\n",
       "        vertical-align: middle;\n",
       "    }\n",
       "</style>\n",
       "<table border=\"1\" class=\"pscan\">\n",
       "  <tbody>\n",
       "    <tr style=\"text-align: right;\">\n",
       "      <th>Command</th>\n",
       "      <td>5 _pscando pix 5 95 100 piy 5 95 100 .01</td>\n",
       "    </tr>\n",
       "    <tr style=\"text-align: right;\">\n",
       "      <th>Datetime</th>\n",
       "      <td>Sun 2020/11/22 00:24:57</td>\n",
       "    </tr>\n",
       "    <tr style=\"text-align: right;\">\n",
       "      <th>Shape</th>\n",
       "      <td>(100, 100)</td>\n",
       "    </tr>\n",
       "  </tbody>\n",
       "</table>\n",
       "</div>"
      ],
      "text/plain": [
       "<sxdm.io.spec.PiezoScan at 0x150c529a9c10>"
      ]
     },
     "execution_count": 19,
     "metadata": {},
     "output_type": "execute_result"
    }
   ],
   "source": [
    "pscan = fsf[5]\n",
    "pscan"
   ]
  },
  {
   "cell_type": "markdown",
   "metadata": {},
   "source": [
    "To obtain an array containing all the detector frames collected at each sample position as part of the scan (takes some time due to data decompression):"
   ]
  },
  {
   "cell_type": "code",
   "execution_count": 20,
   "metadata": {},
   "outputs": [
    {
     "name": "stdout",
     "output_type": "stream",
     "text": [
      "Uncompressing data... Done in 27.91s\n"
     ]
    }
   ],
   "source": [
    "frames = pscan.get_detector_frames()"
   ]
  },
  {
   "cell_type": "markdown",
   "metadata": {},
   "source": [
    "for scan 5 `frames` thus contains $100 \\times 100$ detector frames, i.e."
   ]
  },
  {
   "cell_type": "code",
   "execution_count": 21,
   "metadata": {},
   "outputs": [
    {
     "data": {
      "text/plain": [
       "(10000, 516, 516)"
      ]
     },
     "execution_count": 21,
     "metadata": {},
     "output_type": "execute_result"
    }
   ],
   "source": [
    "frames.shape"
   ]
  },
  {
   "cell_type": "markdown",
   "metadata": {},
   "source": [
    "since the detector used was a MaxiPix, which has $516 \\times 516$ pixels.\n",
    "\n",
    "To see what each frame looks like at each sample position, use the `FramesExplorer` widget. Clicking around the scanned area, represented by the plot of one of the defined ROIs, loads the corresponiding frame. Have a go! Check the `Log Intensity` box to better observe any frame."
   ]
  },
  {
   "cell_type": "code",
   "execution_count": 23,
   "metadata": {
    "scrolled": false
   },
   "outputs": [
    {
     "data": {
      "application/vnd.jupyter.widget-view+json": {
       "model_id": "d0716738b2b540c98e4ebf8783e73226",
       "version_major": 2,
       "version_minor": 0
      },
      "text/plain": [
       "VBox(children=(HBox(children=(Dropdown(description='ROI', layout=Layout(justify_content='space-between', width…"
      ]
     },
     "metadata": {},
     "output_type": "display_data"
    }
   ],
   "source": [
    "frame_explorer = sxdm.widgets.spec.FramesExplorer(pscan)\n",
    "frame_explorer.show()"
   ]
  },
  {
   "cell_type": "markdown",
   "metadata": {},
   "source": [
    "The `FramesExplorer` widget also allows to:\n",
    "* Plot a different ROI\n",
    "* Overlay the ROIs on the selected frame\n",
    "* Define a new ROI by clicking and dragging, drawing a rectangle on the selected frame. The sum of all the intensity falling within such ROI, at each sample position, will then be used to update the ROI plot on the left.\n",
    "\n",
    "As above, explore what can be extracted from the widget with `FramesExplorer.<TAB>`. For example, to get the last selected frame:"
   ]
  },
  {
   "cell_type": "code",
   "execution_count": null,
   "metadata": {},
   "outputs": [],
   "source": [
    "frame_explorer.imgframe.get_array()"
   ]
  },
  {
   "cell_type": "markdown",
   "metadata": {},
   "source": [
    "### Compute"
   ]
  },
  {
   "cell_type": "markdown",
   "metadata": {},
   "source": [
    "Once:\n",
    "1. A scan of interest has been identified, and\n",
    "2. Its frames have been inspected to identifiy the interesting portion of such frames (i.e. that where there is signal - in SXDM scan most of the detector is often empty!)\n",
    "\n",
    "one can proceed to compute the centre of mass (COM) of each of such frames. To do so:"
   ]
  },
  {
   "cell_type": "code",
   "execution_count": null,
   "metadata": {},
   "outputs": [],
   "source": [
    "cy, cz = pscan.calc_coms(roi=[204,249,311,339])"
   ]
  },
  {
   "cell_type": "markdown",
   "metadata": {},
   "source": [
    "Note that specifying the `roi` argument is not required but speeds up calculations significantly.\n",
    "\n",
    "> Once we switch to hdf5 files as data storage this will not be an issue anymore as computations can be done on multiple CPU cores parallely.\n",
    "\n",
    "These COMs are given in detector pixel coordinates: "
   ]
  },
  {
   "cell_type": "code",
   "execution_count": null,
   "metadata": {
    "scrolled": false
   },
   "outputs": [],
   "source": [
    "pix, piy = pscan.get_piezo_coordinates() # load piezo scan coordinates\n",
    "pi_ext = sxdm.utils.get_pi_extents(pix, piy, None) # compute their extents for the plotting\n",
    "\n",
    "fig, ax = plt.subplots(1,2, sharey=True, figsize=(6,2.8), dpi=150, layout='tight')\n",
    "\n",
    "ax[0].imshow(cz, extent=pi_ext)\n",
    "ax[1].imshow(cy, extent=pi_ext)\n",
    "\n",
    "ax[0].set_ylabel('piy (um)')\n",
    "ax[0].set_title('COM_z')\n",
    "ax[1].set_title('COM_y')\n",
    "\n",
    "for a in ax:\n",
    "    a.set_xlabel('pix (um)')\n",
    "    _ = sxdm.plot.add_colorbar(a, a.get_images()[0])"
   ]
  },
  {
   "cell_type": "markdown",
   "metadata": {},
   "source": [
    "To obtain them in the more useful q-space coordinates, first compute them like so:"
   ]
  },
  {
   "cell_type": "code",
   "execution_count": null,
   "metadata": {},
   "outputs": [],
   "source": [
    "qx, qy, qz = pscan.calc_qspace_coordinates()"
   ]
  },
  {
   "cell_type": "markdown",
   "metadata": {},
   "source": [
    "See the docstring of `calc_qspace_coordinates()` to see how to override standard parameters should this be necessary.\n",
    "A small digression is useful at this point. Recall that on ID01 $q_x$ is defined to be along the beam, while $q_y$ is pointing radially away from the synchrotron. Since this scan was taken at:"
   ]
  },
  {
   "cell_type": "code",
   "execution_count": null,
   "metadata": {},
   "outputs": [],
   "source": [
    "phi, nu = [pscan.get_positioner(x) for x in ('phi', 'nu')]\n",
    "\n",
    "print(f'phi={phi:.3f}, nu={nu:.3f}')"
   ]
  },
  {
   "cell_type": "markdown",
   "metadata": {},
   "source": [
    "TODO - maybe put it later to show how to apply offsets"
   ]
  },
  {
   "cell_type": "code",
   "execution_count": null,
   "metadata": {},
   "outputs": [],
   "source": [
    "off = pscan.qconversion_motors_offsets\n",
    "\n",
    "off['phi'] = 3.7\n",
    "off['nu'] = 0.85\n",
    "\n",
    "qx, qy, qz = pscan.calc_qspace_coordinates()"
   ]
  },
  {
   "cell_type": "markdown",
   "metadata": {},
   "source": [
    "The slice of reciprocal space being probed by the detector is close to, but not quite, being paralell to $q_y$. This can be visualised by plotting the sum of all frames in q-space coordinates:"
   ]
  },
  {
   "cell_type": "code",
   "execution_count": null,
   "metadata": {},
   "outputs": [],
   "source": [
    "frame_sum = frames.sum(0).astype('int32')"
   ]
  },
  {
   "cell_type": "code",
   "execution_count": null,
   "metadata": {
    "scrolled": false
   },
   "outputs": [],
   "source": [
    "color_map = plt.get_cmap('magma')\n",
    "I = color_map(frame_sum)\n",
    "\n",
    "fig = plt.figure(layout='tight')\n",
    "ax = fig.add_subplot(projection='3d')\n",
    "\n",
    "ax.plot_surface(qx, qy, qz, facecolors=I)\n",
    "\n",
    "ax.set_xlabel(r'$q_x~(\\AA^{-1})$')\n",
    "ax.set_ylabel(r'$q_y~(\\AA^{-1})$')\n",
    "ax.set_zlabel(r'$q_z~(\\AA^{-1})$')"
   ]
  },
  {
   "cell_type": "markdown",
   "metadata": {
    "slideshow": {
     "slide_type": "fragment"
    }
   },
   "source": [
    "Going back to the COM determination, COMs can be calculated in q-space coordinates:\n",
    "\n",
    "**TODO**"
   ]
  },
  {
   "cell_type": "code",
   "execution_count": null,
   "metadata": {
    "scrolled": true
   },
   "outputs": [],
   "source": [
    "cqx, cqy, cqz = pscan.calc_coms(roi=[204,249,311,339], qspace=True)"
   ]
  },
  {
   "cell_type": "code",
   "execution_count": null,
   "metadata": {
    "scrolled": false
   },
   "outputs": [],
   "source": [
    "pix, piy = pscan.get_piezo_coordinates() # load piezo scan coordinates\n",
    "pi_ext = sxdm.utils.get_pi_extents(pix, piy, None) # compute their extents for the plotting\n",
    "\n",
    "fig, ax = plt.subplots(1,3, sharey=True, figsize=(8,3), dpi=120, layout='tight')\n",
    "\n",
    "ax[0].imshow(cqx, extent=pi_ext)\n",
    "ax[1].imshow(cqy, extent=pi_ext)\n",
    "ax[2].imshow(cqz, extent=pi_ext)\n",
    "\n",
    "ax[0].set_ylabel('piy (um)')\n",
    "\n",
    "for a in ax:\n",
    "    a.set_xlabel('pix (um)')\n",
    "    _ = sxdm.plot.add_colorbar(a, a.get_images()[0])"
   ]
  },
  {
   "cell_type": "code",
   "execution_count": null,
   "metadata": {
    "scrolled": true
   },
   "outputs": [],
   "source": [
    "cqx, cqy, cqz, stdx, stdy, stdz = pscan.calc_coms(roi=[204,249,311,339], qspace=True, calc_std=True)"
   ]
  },
  {
   "cell_type": "code",
   "execution_count": null,
   "metadata": {
    "scrolled": false
   },
   "outputs": [],
   "source": [
    "pix, piy = pscan.get_piezo_coordinates() # load piezo scan coordinates\n",
    "pi_ext = sxdm.utils.get_pi_extents(pix, piy, None) # compute their extents for the plotting\n",
    "\n",
    "fig, ax = plt.subplots(1,3, sharey=True, figsize=(8,3), dpi=120, layout='tight')\n",
    "\n",
    "ax[0].imshow(stdx, extent=pi_ext)\n",
    "ax[1].imshow(stdy, extent=pi_ext)\n",
    "ax[2].imshow(stdz, extent=pi_ext)\n",
    "\n",
    "ax[0].set_ylabel('piy (um)')\n",
    "\n",
    "for a in ax:\n",
    "    a.set_xlabel('pix (um)')\n",
    "    _ = sxdm.plot.add_colorbar(a, a.get_images()[0])"
   ]
  },
  {
   "cell_type": "markdown",
   "metadata": {},
   "source": [
    "These q-space COM coordinates finally allow one to compute the local interplanar distance $d_{025}$ (since this is a 025 peak) and the tilt from the $q_z$ axis using linear algebra and spherical coordinates: "
   ]
  },
  {
   "cell_type": "code",
   "execution_count": null,
   "metadata": {},
   "outputs": [],
   "source": [
    "# q-vector magnitudes\n",
    "q = np.sqrt(cqx**2 + cqy**2 + cqz**2)\n",
    "q_ref = 1\n",
    "\n",
    "# q-vector coordinates\n",
    "Q = np.array([cqx, cqy, cqz])\n",
    "Q_ref = np.array([0,0,1])\n",
    "\n",
    "# compute angle between Q and Q_ref\n",
    "_num = np.dot(Q_ref, Q.flatten().reshape(3, q.size))\n",
    "_denom = q.flatten() * q_ref\n",
    "\n",
    "tiltmag = np.degrees(np.arccos(_num / _denom))\n",
    "tiltmag = tiltmag.reshape(q.shape)\n",
    "\n",
    "# compute azimuthal distance between Q and Q_ref\n",
    "az = np.degrees(np.arctan2(cqy, cqz)) \n",
    "\n",
    "# get plot-friendly tilt\n",
    "tilt = sxdm.plot.make_hsv(tiltmag, az, stretch=True)\n",
    "\n",
    "# interplanar distance\n",
    "d = 4 * np.pi / q"
   ]
  },
  {
   "cell_type": "markdown",
   "metadata": {},
   "source": [
    "If one plots such values,"
   ]
  },
  {
   "cell_type": "code",
   "execution_count": null,
   "metadata": {
    "scrolled": false
   },
   "outputs": [],
   "source": [
    "from mpl_toolkits.axes_grid1 import make_axes_locatable\n",
    "\n",
    "pix, piy = pscan.get_piezo_coordinates() # load piezo scan coordinates\n",
    "pi_ext = sxdm.utils.get_pi_extents(pix, piy, None) # compute their extents for the plotting\n",
    "\n",
    "fig, ax = plt.subplots(1,2, sharey=True, figsize=(6,2.8), dpi=150, layout='tight')\n",
    "\n",
    "ax[0].imshow(tilt, extent=pi_ext)\n",
    "ax[1].imshow(d, extent=pi_ext)\n",
    "\n",
    "## ax[0] colorbar\n",
    "a, b = np.meshgrid(np.linspace(0,1,100), np.linspace(-180,180,100))\n",
    "cmap = sxdm.plot.make_hsv(a,b)\n",
    "\n",
    "cax = make_axes_locatable(ax[0]).append_axes('right', size='20%', pad=0.05)\n",
    "cax.imshow(cmap, aspect='auto')\n",
    "\n",
    "cax.tick_params(labelsize='small', left=False, right=True, labelleft=False, labelright=True)\n",
    "cax.locator_params(axis='y', tight=True, nbins=7)\n",
    "\n",
    "cax.set_yticks([0,25,50,75,99,])\n",
    "cax.set_yticklabels([-180,-90,0,90,180])\n",
    "\n",
    "cax.set_xticks([0,99])\n",
    "cax.set_xticklabels(f'{tiltmag.min():.4f},{tiltmag.max():.4f}'.split(','), rotation=40)\n",
    "\n",
    "cax.yaxis.set_label_position(\"right\")\n",
    "cax.set_ylabel(r'Tilt azimuth $(\\degree)$', labelpad=1, fontsize='small')\n",
    "cax.set_xlabel(r'Tilt magnitude $(\\degree)$', labelpad=1, fontsize='small')\n",
    "\n",
    "# labels etc\n",
    "ax[0].set_title('Tilt', pad=15)\n",
    "ax[1].set_title('$d_{025}$', pad=15)\n",
    "\n",
    "_ = sxdm.plot.add_colorbar(ax[1], ax[1].get_images()[0])\n",
    "\n",
    "ax[0].set_ylabel('piy (um)')\n",
    "_ = [a.set_xlabel('pix (um)') for a in ax]"
   ]
  },
  {
   "cell_type": "markdown",
   "metadata": {},
   "source": [
    "It is seen that the tilt azimuth is always close to $0^{\\circ}$, as expected from the fact that the probed peak plane is always almost parallel to $q_y$ (think about it!). Despite the pixelation and the lack of resolution along $q_x$, these plots already suggest that the hillock-shaped defects rotate the AlGaN lattice in the direction of the hillock surface, as one might expect."
   ]
  }
 ],
 "metadata": {
  "hide_input": false,
  "kernelspec": {
   "display_name": "sxdm.slurm",
   "language": "python",
   "name": "sxdm.slurm"
  },
  "language_info": {
   "codemirror_mode": {
    "name": "ipython",
    "version": 3
   },
   "file_extension": ".py",
   "mimetype": "text/x-python",
   "name": "python",
   "nbconvert_exporter": "python",
   "pygments_lexer": "ipython3",
   "version": "3.8.10"
  },
  "notify_time": "30",
  "toc": {
   "base_numbering": 1,
   "nav_menu": {},
   "number_sections": true,
   "sideBar": true,
   "skip_h1_title": true,
   "title_cell": "Table of Contents",
   "title_sidebar": "Contents",
   "toc_cell": true,
   "toc_position": {},
   "toc_section_display": true,
   "toc_window_display": false
  }
 },
 "nbformat": 4,
 "nbformat_minor": 4
}
