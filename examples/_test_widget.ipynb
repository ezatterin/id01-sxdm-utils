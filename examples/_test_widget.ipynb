{
 "cells": [
  {
   "cell_type": "code",
   "execution_count": 1,
   "id": "143695f1",
   "metadata": {},
   "outputs": [
    {
     "data": {
      "text/html": [
       "\n",
       "<style>\n",
       "    .container {width:98%}\n",
       "<\\style>\n"
      ],
      "text/plain": [
       "<IPython.core.display.HTML object>"
      ]
     },
     "metadata": {},
     "output_type": "display_data"
    }
   ],
   "source": [
    "%%html\n",
    "\n",
    "<style>\n",
    "    .container {width:98%}\n",
    "<\\style>"
   ]
  },
  {
   "cell_type": "code",
   "execution_count": 1,
   "id": "1980b592",
   "metadata": {},
   "outputs": [
    {
     "name": "stderr",
     "output_type": "stream",
     "text": [
      "<frozen importlib._bootstrap>:219: RuntimeWarning: scipy._lib.messagestream.MessageStream size changed, may indicate binary incompatibility. Expected 56 from C header, got 64 from PyObject\n"
     ]
    }
   ],
   "source": [
    "import pathlib\n",
    "import sys\n",
    "\n",
    "sys.path.insert(0, f'{pathlib.Path.home()}/repos/id01-sxdm-utils')\n",
    "\n",
    "import sxdm\n",
    "\n",
    "from h5glance import H5Glance as h5p\n",
    "from imp import reload"
   ]
  },
  {
   "cell_type": "code",
   "execution_count": 2,
   "id": "86a981f0",
   "metadata": {},
   "outputs": [],
   "source": [
    "path_dset = '/data/id01/inhouse/data/IHR/blc13838/id01/NiO_macro/NiO_macro_0003/NiO_macro_0003.h5'"
   ]
  },
  {
   "cell_type": "code",
   "execution_count": 4,
   "id": "cf6f20ea",
   "metadata": {},
   "outputs": [
    {
     "data": {
      "application/vnd.jupyter.widget-view+json": {
       "model_id": "4deb94a85dab420382ec7194d1b97ade",
       "version_major": 2,
       "version_minor": 0
      },
      "text/plain": [
       "HBox(children=(VBox(children=(Dropdown(description='ROI:', index=2, layout=Layout(width='auto'), options=('mpx…"
      ]
     },
     "metadata": {},
     "output_type": "display_data"
    }
   ],
   "source": [
    "%matplotlib widget\n",
    "\n",
    "viz = sxdm.bliss.widgets.InspectROI(path_dset)\n",
    "viz.show()"
   ]
  },
  {
   "cell_type": "code",
   "execution_count": null,
   "id": "cae1c431",
   "metadata": {},
   "outputs": [],
   "source": []
  }
 ],
 "metadata": {
  "kernelspec": {
   "display_name": "sxdm.slurm",
   "language": "python",
   "name": "sxdm.slurm"
  },
  "language_info": {
   "codemirror_mode": {
    "name": "ipython",
    "version": 3
   },
   "file_extension": ".py",
   "mimetype": "text/x-python",
   "name": "python",
   "nbconvert_exporter": "python",
   "pygments_lexer": "ipython3",
   "version": "3.8.10"
  }
 },
 "nbformat": 4,
 "nbformat_minor": 5
}
