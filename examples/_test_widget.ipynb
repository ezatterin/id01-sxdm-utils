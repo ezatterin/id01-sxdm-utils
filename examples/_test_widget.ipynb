{
 "cells": [
  {
   "cell_type": "markdown",
   "id": "c3328bfb",
   "metadata": {
    "toc": true
   },
   "source": [
    "<h1>Table of Contents<span class=\"tocSkip\"></span></h1>\n",
    "<div class=\"toc\"><ul class=\"toc-item\"></ul></div>"
   ]
  },
  {
   "cell_type": "code",
   "execution_count": 1,
   "id": "143695f1",
   "metadata": {},
   "outputs": [
    {
     "data": {
      "text/html": [
       "\n",
       "<style>\n",
       "    .container {width:98%}\n",
       "<\\style>\n"
      ],
      "text/plain": [
       "<IPython.core.display.HTML object>"
      ]
     },
     "metadata": {},
     "output_type": "display_data"
    }
   ],
   "source": [
    "%%html\n",
    "\n",
    "<style>\n",
    "    .container {width:98%}\n",
    "<\\style>"
   ]
  },
  {
   "cell_type": "code",
   "execution_count": 1,
   "id": "fb0a7ecc",
   "metadata": {},
   "outputs": [],
   "source": [
    "import sys\n",
    "\n",
    "sys.path.insert(0, '/home/zatterin/repos/id01-sxdm-utils/')\n",
    "sys.path.insert(0, '/home/zatterin/repos/id01-core/')"
   ]
  },
  {
   "cell_type": "code",
   "execution_count": 2,
   "id": "1980b592",
   "metadata": {},
   "outputs": [],
   "source": [
    "import sxdm\n",
    "import id01lib\n",
    "import numpy as np\n",
    "import h5py\n",
    "\n",
    "from h5glance import H5Glance as h5p"
   ]
  },
  {
   "cell_type": "code",
   "execution_count": 12,
   "id": "09760be2",
   "metadata": {},
   "outputs": [
    {
     "data": {
      "text/plain": [
       "90.0"
      ]
     },
     "execution_count": 12,
     "metadata": {},
     "output_type": "execute_result"
    }
   ],
   "source": [
    "np.degrees(id01lib.process.math.angle_between([-1,-1,0], [1,-1,0]))"
   ]
  },
  {
   "cell_type": "code",
   "execution_count": 4,
   "id": "86a981f0",
   "metadata": {},
   "outputs": [],
   "source": [
    "path_dset = '/data/id01/inhouse/data/IHR/blc13838/id01/NiO/NiO_align/NiO_align.h5'"
   ]
  },
  {
   "cell_type": "code",
   "execution_count": 5,
   "id": "cc7f1085",
   "metadata": {},
   "outputs": [
    {
     "data": {
      "text/plain": [
       "array([[42472., 47756., 49825., ..., 19582., 20418., 18646.],\n",
       "       [42242., 42371., 40291., ..., 19632., 23021., 24591.],\n",
       "       [47870., 48814., 41451., ..., 20719., 23796., 29639.],\n",
       "       ...,\n",
       "       [35197., 31988., 33645., ..., 40706., 41086., 45716.],\n",
       "       [34526., 31643., 30026., ..., 52344., 48663., 58008.],\n",
       "       [32265., 30970., 29478., ..., 72337., 71532., 71766.]])"
      ]
     },
     "execution_count": 5,
     "metadata": {},
     "output_type": "execute_result"
    }
   ],
   "source": [
    "sxdm.io.bliss.get_roidata(path_dset, '10.1', 'mpx1x4_mpx4int')"
   ]
  },
  {
   "cell_type": "code",
   "execution_count": 6,
   "id": "cf6f20ea",
   "metadata": {},
   "outputs": [
    {
     "data": {
      "application/vnd.jupyter.widget-view+json": {
       "model_id": "0f0f6754d320470cae7c92cc781dbd8f",
       "version_major": 2,
       "version_minor": 0
      },
      "text/plain": [
       "HBox(children=(VBox(children=(Dropdown(description='ROI:', index=5, layout=Layout(width='auto'), options=('ct_…"
      ]
     },
     "metadata": {},
     "output_type": "display_data"
    }
   ],
   "source": [
    "viz = sxdm.widgets.bliss.InspectROI(path_dset, init_scan_no='10.1')\n",
    "viz.show()"
   ]
  },
  {
   "cell_type": "code",
   "execution_count": 12,
   "id": "e5f8eae2",
   "metadata": {},
   "outputs": [
    {
     "name": "stdout",
     "output_type": "stream",
     "text": [
      "Using cen_pix: x=143.38068765393936, y=115.21018517595206\n",
      "Using det_dist = 0.67273 m\n",
      "Using energy = 10.09963 keV\n"
     ]
    }
   ],
   "source": [
    "qx, qy, qz = id01lib.xrd.qspace.bliss.get_qspace_vals(path_dset, '10.1')"
   ]
  },
  {
   "cell_type": "code",
   "execution_count": 8,
   "id": "b2551ae3",
   "metadata": {},
   "outputs": [
    {
     "name": "stdout",
     "output_type": "stream",
     "text": [
      "/data/id01/inhouse/data/IHR/blc13838/id01/NiO/NiO_align/NiO_align.h5\n"
     ]
    }
   ],
   "source": [
    "with h5py.File(path_dset, 'r') as h5f:\n",
    "    print(h5f.filename)"
   ]
  }
 ],
 "metadata": {
  "hide_input": false,
  "kernelspec": {
   "display_name": "sxdm-devel.slurm",
   "language": "python",
   "name": "sxdm-devel.slurm"
  },
  "language_info": {
   "codemirror_mode": {
    "name": "ipython",
    "version": 3
   },
   "file_extension": ".py",
   "mimetype": "text/x-python",
   "name": "python",
   "nbconvert_exporter": "python",
   "pygments_lexer": "ipython3",
   "version": "3.8.10"
  },
  "toc": {
   "base_numbering": 1,
   "nav_menu": {},
   "number_sections": true,
   "sideBar": true,
   "skip_h1_title": false,
   "title_cell": "Table of Contents",
   "title_sidebar": "Contents",
   "toc_cell": true,
   "toc_position": {},
   "toc_section_display": true,
   "toc_window_display": false
  }
 },
 "nbformat": 4,
 "nbformat_minor": 5
}
