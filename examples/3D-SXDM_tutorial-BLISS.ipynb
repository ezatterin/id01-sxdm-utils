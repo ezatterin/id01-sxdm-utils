{
 "cells": [
  {
   "cell_type": "markdown",
   "metadata": {
    "toc": true
   },
   "source": [
    "<h1>Table of Contents<span class=\"tocSkip\"></span></h1>\n",
    "<div class=\"toc\"><ul class=\"toc-item\"><li><span><a href=\"#Initialisation\" data-toc-modified-id=\"Initialisation-1\"><span class=\"toc-item-num\">1&nbsp;&nbsp;</span>Initialisation</a></span></li><li><span><a href=\"#Data-inspection\" data-toc-modified-id=\"Data-inspection-2\"><span class=\"toc-item-num\">2&nbsp;&nbsp;</span>Data inspection</a></span></li><li><span><a href=\"#Correction-of-sample-drifts\" data-toc-modified-id=\"Correction-of-sample-drifts-3\"><span class=\"toc-item-num\">3&nbsp;&nbsp;</span>Correction of sample drifts</a></span></li><li><span><a href=\"#Transformation-from-angular-to-reciprocal-space\" data-toc-modified-id=\"Transformation-from-angular-to-reciprocal-space-4\"><span class=\"toc-item-num\">4&nbsp;&nbsp;</span>Transformation from angular to reciprocal space</a></span></li><li><span><a href=\"#Determination-of-a-ROI-in-reciprocal-space\" data-toc-modified-id=\"Determination-of-a-ROI-in-reciprocal-space-5\"><span class=\"toc-item-num\">5&nbsp;&nbsp;</span>Determination of a ROI in reciprocal space</a></span></li><li><span><a href=\"#Calculation-and-visualisation-of-local-structural-parameters\" data-toc-modified-id=\"Calculation-and-visualisation-of-local-structural-parameters-6\"><span class=\"toc-item-num\">6&nbsp;&nbsp;</span>Calculation and visualisation of local structural parameters</a></span></li></ul></div>"
   ]
  },
  {
   "cell_type": "markdown",
   "metadata": {},
   "source": [
    "This notebook exposes the data analysis pipeline needed to obtain the local:\n",
    "\n",
    "* peak intensity\n",
    "* interplanar distance\n",
    "* tilt\n",
    "\n",
    "from a typical 3D-SXDM measurement performed on beamline ID01 @ ESRF. \n",
    "\n",
    "A 3D-SXDM measurement is defined as the output of a `dsxdm_3D()` BLISS command, and corresponds to a series of `dsxdm()` scans - i.e., to a series of SXDM maps taken at different incidence angles of the X-ray beam. Each map results from a raster scan of a chosen sample area relative to the focussed beam. At each beam position, a detector frame is collected. Thus, raw data from a single SXDM map is in the form $I(x, y, \\mathsf{detX}, \\mathsf{detY})$, where $I$ is the scattered intensity, $(x, y)$ are the positions of the sample relative to the beam, and $(\\mathsf{detX}, \\mathsf{detY})$ are the horizontal and vertical directions of the 2D detector active area.\n",
    "\n",
    "A 3D-SXDM dataset is therefore 5-dimensional, its data being in the form $I(x, y, \\eta, \\mathsf{detX}, \\mathsf{detY})$, where $\\eta$ is the incidence (or rocking) angle. This notebook processes the raw data so that a linear transformation from angular to reciprocal space coordinates is performed, i.e.:\n",
    "\n",
    "$$ I(x, y, \\eta, \\mathsf{detX}, \\mathsf{detY}) \\to I(x, y, q_x, q_y, q_z) $$\n",
    "\n",
    "This transformation requires knowledge of the diffractometer geometry and angles (not simply $\\eta$), and to interpolate data on an orthogonal grid. From $I(x, y, q_x, q_y, q_z)$ one can then compute the centre of mass of the intensity as a function of sample position, obtaining $\\vec{q}(x, y)$. This allows one to finally compute the local structural parameters listed above."
   ]
  },
  {
   "cell_type": "markdown",
   "metadata": {},
   "source": [
    "<div class=\"alert alert-block alert-info\">\n",
    "<b>Note:</b> Jupyter notebooks run on <code>IPython</code>, meaning that one can inspect the docstring of an <code>object</code> by using the syntax <code>object?</code>. Don't hesitate to explore the functionality of the code below beyond this notebook by inspecting docstrings!\n",
    "</div>"
   ]
  },
  {
   "cell_type": "markdown",
   "metadata": {},
   "source": [
    "Some useful links:\n",
    "* [Jupyter notebook basics](https://nbviewer.org/github/jupyter/notebook/blob/main/docs/source/examples/Notebook/Notebook%20Basics.ipynb)\n",
    "* [ID01 Confluence](https://confluence.esrf.fr/display/BLID01KB)\n",
    "* [id01-science](https://gitlab.esrf.fr/id01-science) group of GitLab repositories"
   ]
  },
  {
   "cell_type": "markdown",
   "metadata": {},
   "source": [
    "# Initialisation "
   ]
  },
  {
   "cell_type": "markdown",
   "metadata": {},
   "source": [
    "If this was not done already in a different notebook, the cell below **only once**. It will install the virtual environment containing some Python code required to run the rest of the notebook."
   ]
  },
  {
   "cell_type": "code",
   "execution_count": null,
   "metadata": {},
   "outputs": [],
   "source": [
    "%%bash\n",
    "\n",
    "pip3 install ipykernel\n",
    "source /data/id01/inhouse/data_analysis/software/pyenvs/sxdm.slurm/bin/activate\n",
    "python3 -m ipykernel install --user --name sxdm.slurm"
   ]
  },
  {
   "cell_type": "markdown",
   "metadata": {},
   "source": [
    "Once the cell above has been run, **refresh the page** (`Ctrl-R`) and using the top bar navigate to `Kernel > Change Kernel > sxdm.slurm`. This will restart the Jupyter kernel to one that has access to the additional Python code needed to run this notebook.\n",
    "\n",
    "The cell below further import Python libraries needed to run the notebook."
   ]
  },
  {
   "cell_type": "code",
   "execution_count": null,
   "metadata": {},
   "outputs": [],
   "source": [
    "%matplotlib widget\n",
    "\n",
    "import sxdm\n",
    "import id01lib\n",
    "import os\n",
    "import matplotlib.pyplot as plt\n",
    "import matplotlib as mpl\n",
    "import numpy as np\n",
    "import h5py\n",
    "import hdf5plugin\n",
    "import ipywidgets as ipw\n",
    "\n",
    "from h5glance import H5Glance as h5p\n",
    "from matplotlib.colors import LogNorm\n",
    "from mpl_toolkits.axes_grid1 import make_axes_locatable\n",
    "\n",
    "mpl.rcParams['image.origin'] = 'lower'\n",
    "mpl.rcParams['font.family'] = 'Liberation Sans'\n",
    "mpl.rcParams['figure.dpi'] = 100"
   ]
  },
  {
   "cell_type": "markdown",
   "metadata": {},
   "source": [
    "# Data inspection"
   ]
  },
  {
   "cell_type": "markdown",
   "metadata": {},
   "source": [
    "This notebook lives in the experiment directory, "
   ]
  },
  {
   "cell_type": "code",
   "execution_count": null,
   "metadata": {},
   "outputs": [],
   "source": [
    "pwd"
   ]
  },
  {
   "cell_type": "markdown",
   "metadata": {},
   "source": [
    "so that the contents of such directory can be inspected via relative paths:"
   ]
  },
  {
   "cell_type": "code",
   "execution_count": null,
   "metadata": {},
   "outputs": [],
   "source": [
    "ls -lh ../../../"
   ]
  },
  {
   "cell_type": "markdown",
   "metadata": {},
   "source": [
    "For this experiment **samples** `ech_1` and `ech_2` have been investigated. However, multiple \"sample directories\" were used to match sample names with distinct series of measurements (\"macros\"). The list above shows all of these additional \"samples\", which correspond to indivdual subfolders within the main experiment folder. \n",
    "\n",
    "The variable `name_sample` is modified below to match a chosen sample, and list its contents:"
   ]
  },
  {
   "cell_type": "code",
   "execution_count": null,
   "metadata": {},
   "outputs": [],
   "source": [
    "name_sample = 'ech_1_afternoon2'\n",
    "\n",
    "!tree ../../../{name_sample} -L 1"
   ]
  },
  {
   "cell_type": "markdown",
   "metadata": {},
   "source": [
    "Each of the subfolders above corresponds to a specific **dataset** associated with the chosen sample, here `ech_1_afternoon2` (thus referring to a macro run in the afternoon of the second day). A dataset can be chosen by simply specifying its number:"
   ]
  },
  {
   "cell_type": "code",
   "execution_count": null,
   "metadata": {},
   "outputs": [],
   "source": [
    "name_dset = '0008'\n",
    "path_dset = f'../../../{name_sample}/{name_sample}_{name_dset}/{name_sample}_{name_dset}.h5'"
   ]
  },
  {
   "cell_type": "markdown",
   "metadata": {},
   "source": [
    "and its contents inspected using the `InspectROI` widget:"
   ]
  },
  {
   "cell_type": "code",
   "execution_count": null,
   "metadata": {
    "scrolled": false
   },
   "outputs": [],
   "source": [
    "viz = sxdm.widgets.bliss.InspectROI(path_dset)\n",
    "viz.show()"
   ]
  },
  {
   "cell_type": "markdown",
   "metadata": {},
   "source": [
    "# Correction of sample drifts "
   ]
  },
  {
   "cell_type": "markdown",
   "metadata": {},
   "source": [
    "Once one is happy with the *dataset* choice, one proceeds to check if the data has to be corrected for **sample drifts**. That is, if movements of the visible area with incidence angle relative to the field of view (FoV), which could make interesting features disappear from the FoV as the incidence angle changes have to be compensated.\n",
    "\n",
    "To do this, the `get_shift` function is used. This relies on [`skimage.registration.phase_cross_correlation`](https://scikit-image.org/docs/stable/api/skimage.registration.html#skimage.registration.phase_cross_correlation) so that it accepts also its keyword arguments - `reference_mask` being often a useful one. In this case it is not needed, and `roi2` is chosen as the signal to track between different SXDM maps as it is visible at all angles:"
   ]
  },
  {
   "cell_type": "code",
   "execution_count": null,
   "metadata": {},
   "outputs": [],
   "source": [
    "# mask = np.zeros(sxdm.io.bliss.get_scan_shape(path_dset, '1.1'))\n",
    "# mask[:, 30:60] = 1\n",
    "\n",
    "shifts, sxdm_raw, sxdm_shift = sxdm.utils.get_shift(\n",
    "    path_dset,\n",
    "    roi=\"mpx1x4_roi2\",\n",
    "    scan_nums=[f\"{x}.1\" for x in range(1, 61)],\n",
    "    return_maps=True,\n",
    "    med_filt=(2,2),\n",
    "    # , reference_mask=mask\n",
    ")"
   ]
  },
  {
   "cell_type": "markdown",
   "metadata": {},
   "source": [
    "To check that the shifts have been estimated correctly, the shifted and un-shifted maps are plotted side-by-side:"
   ]
  },
  {
   "cell_type": "code",
   "execution_count": null,
   "metadata": {},
   "outputs": [],
   "source": [
    "window = np.s_[:,:]\n",
    "# window = np.s_[int(shifts[:,0].max()):int(shifts[:,0].min()), :int(shifts[:,1].min())]\n",
    "\n",
    "fig, ax = plt.subplots(1,2, figsize=(5,2.5), sharex=True, sharey=True, constrained_layout=True)\n",
    "\n",
    "im_raw   = ax[0].imshow(sxdm_raw[0][window], origin='lower')\n",
    "im_shift = ax[1].imshow(sxdm_shift[0][window], origin='lower')\n",
    "\n",
    "ax[0].set_title('Raw')\n",
    "ax[1].set_title('Shifted')\n",
    "\n",
    "@ipw.interact(i=(0, len(sxdm_raw)-1, 1))\n",
    "def compare_raw_and_shifted(i=0):\n",
    "    im_raw.set_data(sxdm_raw[i][window])\n",
    "    im_shift.set_data(sxdm_shift[i][window])\n",
    "    \n",
    "    im_raw.set_clim(sxdm_raw[i].min(), sxdm_raw[i].max())\n",
    "    im_shift.set_clim(im_raw.get_clim())\n",
    "    \n",
    "    fig.canvas.draw()"
   ]
  },
  {
   "cell_type": "markdown",
   "metadata": {},
   "source": [
    "Uncomment the second `window` definition above to visualise only the smallest non-moving FoV given the estimated shift."
   ]
  },
  {
   "cell_type": "markdown",
   "metadata": {},
   "source": [
    "<div class=\"alert alert-block alert-danger\">\n",
    "<b>Warning:</b> this automatic shift estimation may not always work if the distribution of intensity in the map is changing too fast between one angle and the next. In such case, it is best to <u>run the cell below</u> and then <b>STOP</b> using the notebook, performing the q-space transform with <a href=\"https://kmap.gitlab-pages.esrf.fr/xsocs/\">XSOCS</a>. This will allow one to use its <a href=\"https://kmap.gitlab-pages.esrf.fr/xsocs/usage/intensity_view.html#shift-scan-sample-positions\">interactive shifting tool</a>. Initialise an XSOCS project in <code>path_out</code>, perform the q-space transofrm, and resume working in this notebook from the section on the <a href=\"https://jupyter-slurm.esrf.fr/user/zatterin/notebooks/beamtimes/user/in1141_Barbier/analysis/ech_1/m2205/ech_1_-2205_sxdm-qconv.ipynb#Determination-of-a-ROI-in-reciprocal-space\">determination of a q-space ROI</a>.\n",
    "</div>"
   ]
  },
  {
   "cell_type": "markdown",
   "metadata": {},
   "source": [
    "Once the shift estimation is satisfactory, one proceeds to specify an **output directory** where processed data relative to this dataset will be stored. The function `make_xsocs_links` is then used to generate files that contain **links** to the raw data and an internal structure than can be read by the software [XSOCS](https://kmap.gitlab-pages.esrf.fr/xsocs/):"
   ]
  },
  {
   "cell_type": "code",
   "execution_count": null,
   "metadata": {},
   "outputs": [],
   "source": [
    "path_out = '../../data/ech_1_-2205'\n",
    "\n",
    "sxdm.utils.bliss.make_xsocs_links(path_dset, path_out, range(1,61))"
   ]
  },
  {
   "cell_type": "markdown",
   "metadata": {},
   "source": [
    "Having a XSOCS-compatible representation of the raw data, one can now proceed to correct the raw data for drifts using the calculated `shifts`. This is done with the function `shift_xsocs_data`."
   ]
  },
  {
   "cell_type": "markdown",
   "metadata": {},
   "source": [
    "<div class=\"alert alert-block alert-danger\">\n",
    "<b>Warning:</b> this will take a while, about 18min on a 40-core machine - 516^2 * number_of_angles shift operations are being performed!\n",
    "</div>"
   ]
  },
  {
   "cell_type": "code",
   "execution_count": null,
   "metadata": {
    "scrolled": false
   },
   "outputs": [],
   "source": [
    "%%time\n",
    "\n",
    "if False:\n",
    "    sxdm.process.xsocs.shift_xsocs_data(path_dset, path_out, shifts)"
   ]
  },
  {
   "cell_type": "markdown",
   "metadata": {},
   "source": [
    "Once the shifting is done, the path to the so-called XSOCS (shifted) \"master file\" are defined. This file contains links to the actual (shifted) data, which in contrast to the raw data, is physically stored in `path_out`."
   ]
  },
  {
   "cell_type": "code",
   "execution_count": null,
   "metadata": {},
   "outputs": [],
   "source": [
    "path_master_shifted = f\"{path_out}/{name_sample}_{name_dset}_master_shifted.h5\""
   ]
  },
  {
   "cell_type": "markdown",
   "metadata": {},
   "source": [
    "# Transformation from angular to reciprocal space"
   ]
  },
  {
   "cell_type": "markdown",
   "metadata": {},
   "source": [
    "Expressing data in orthonormal reciprocal space is based on the angular values read from the diffractometer's motors. Discrepancies between the \"real\" and experimental value of these angles may exists due to alignment imprecisions, or due to measurement of the Bragg signal in a portion of the detector that *does not* correspond to the \"central pixel\", i.e. the pixel hit by the maximum of the direct X-ray beam when all diffractometer angles are zero.\n",
    "\n",
    "To estimate such angular offsets, first the sum all of the detector frames collected as part of a SXDM map at a given angle is taken; scan `30.1` is chosen, as this represents the middle of the rocking curve and should correspond to a slice in reciprocal space of the most intense portion of the probed Bragg peak: "
   ]
  },
  {
   "cell_type": "code",
   "execution_count": null,
   "metadata": {},
   "outputs": [],
   "source": [
    "fint = sxdm.io.bliss.get_sxdm_frame_sum(path_dset, '30.1')"
   ]
  },
  {
   "cell_type": "markdown",
   "metadata": {},
   "source": [
    "The array `fint` has the shape of the detector active area, i.e."
   ]
  },
  {
   "cell_type": "code",
   "execution_count": null,
   "metadata": {},
   "outputs": [],
   "source": [
    "fint.shape"
   ]
  },
  {
   "cell_type": "markdown",
   "metadata": {},
   "source": [
    "The function `get_qspace_vals` is then used to obtain the $(q_x,q_y, q_z)$ coordinate of each pixel in the frame sum `fint`, i.e. a $\\vec{q}$ is associated with each pixel:"
   ]
  },
  {
   "cell_type": "code",
   "execution_count": null,
   "metadata": {},
   "outputs": [],
   "source": [
    "offsets = {'eta':0, 'delta':0, 'phi':0, 'roby':0, 'nu':0}\n",
    "qx, qy, qz = id01lib.xrd.qspace.bliss.get_qspace_vals(path_dset, '30.1', offsets=offsets)"
   ]
  },
  {
   "cell_type": "markdown",
   "metadata": {},
   "source": [
    "These have the same shape as `fint`,"
   ]
  },
  {
   "cell_type": "code",
   "execution_count": null,
   "metadata": {},
   "outputs": [],
   "source": [
    "print(*[q.shape for q in (qx, qy, qz)])"
   ]
  },
  {
   "cell_type": "markdown",
   "metadata": {},
   "source": [
    "The dictionary `offsets` has been initialised to hold the (key, value) pairs `angle:0` for each angle only to demonstrate its use. When offsets are zero as in this case, it is sufficient to pass `offsets=None` to `get_qspace_vals`.\n",
    "\n",
    "One should then check that the q-space coordinates computed from the diffractometer angles correspond to the expectations, i.e. that the Bragg peak is located at $(q_x,q_y, q_z)$ coordinates consistent with the crystallography of the sample. This may not always be the case straight away, as the default position of the q-space axes is determined relative to the incident beam direction and that of the axes of rotation of the diffractometer. Thus, unless the main crystallographic axes of the sample were aligned with such directions, the q-space coordinates computed will not be those of the reciprocal lattice of the sample. One must therefore either change the definition of $q_x$ (`ipdir`) and $q_z$ (`ndir`) in `get_qspace_vals`, or add angular offsets via `offsets` to artificially rotate the crystal so that its main crystallographic directions match the orthonrmal q-space axes.\n",
    "\n",
    "Such check is done by plotting the projections of `fint`:"
   ]
  },
  {
   "cell_type": "code",
   "execution_count": null,
   "metadata": {},
   "outputs": [],
   "source": [
    "fig, ax = plt.subplots(1,3,figsize=(8,3.5), dpi=100)\n",
    "\n",
    "ax[0].pcolormesh(qy, qz, fint, norm=LogNorm(), shading='gouraud')\n",
    "ax[1].pcolormesh(qx, qz, fint, norm=LogNorm(), shading='gouraud')\n",
    "ax[2].pcolormesh(qx, qy, fint, norm=LogNorm(), shading='gouraud')\n",
    "\n",
    "[ax[i].set_ylabel(r'$q_z$ ($\\AA^{-1}$)') for i in (0,1)]\n",
    "[ax[i].set_xlabel(r'$q_x$ ($\\AA^{-1}$)') for i in (1,2)]\n",
    "\n",
    "ax[0].set_xlabel(r'$q_y$ ($\\AA^{-1}$)')\n",
    "ax[2].set_ylabel(r'$q_y$ ($\\AA^{-1}$)')\n",
    "\n",
    "for a in ax:\n",
    "    a.set_aspect('equal')\n",
    "    sxdm.plot.add_colorbar(a, a.get_children()[0])\n",
    "    \n",
    "fig.tight_layout()"
   ]
  },
  {
   "cell_type": "markdown",
   "metadata": {},
   "source": [
    "A clearer visualisation is perhaps obtained by plotting the `fint` slice in 3D:"
   ]
  },
  {
   "cell_type": "code",
   "execution_count": null,
   "metadata": {},
   "outputs": [],
   "source": [
    "color_map = plt.get_cmap('turbo')\n",
    "ffint = fint.astype(np.float64)\n",
    "ffint /= ffint.max()\n",
    "I = color_map(ffint)\n",
    "\n",
    "fig = plt.figure(layout='tight')\n",
    "ax = fig.add_subplot(projection='3d')\n",
    "\n",
    "ax.plot_surface(qx, qy, qz, facecolors=I)\n",
    "\n",
    "ax.set_xlabel(r'$q_x~(\\AA^{-1})$')\n",
    "ax.set_ylabel(r'$q_y~(\\AA^{-1})$')\n",
    "ax.set_zlabel(r'$q_z~(\\AA^{-1})$')"
   ]
  },
  {
   "cell_type": "markdown",
   "metadata": {},
   "source": [
    "Once angular offsets have been established, one should proceed to estimate the largest number of bins that can be used to grid the data in q-space. Interpolating intensity on an orthonormal grid is necessary when expressing it in reciprocal space as the data itself, acquired in angular space, is not orthonormal."
   ]
  },
  {
   "cell_type": "code",
   "execution_count": null,
   "metadata": {},
   "outputs": [],
   "source": [
    "sxdm.process.xsocs.estimate_n_bins(path_master_shifted, offsets=offsets)"
   ]
  },
  {
   "cell_type": "markdown",
   "metadata": {},
   "source": [
    "Based on the output of the above cell and in order to use an isotropic grid size, the number of bins is set to $125^3$ in the function `grid_qspace_xsocs` called below. This function requires an output file as an input, specified below as `qspace_shift_0.h5`, as well as the master XSOCS (shifted) file, `path_master_shifted`."
   ]
  },
  {
   "cell_type": "markdown",
   "metadata": {},
   "source": [
    "<div class=\"alert alert-block alert-danger\">\n",
    "<b>Warning:</b> this will take a while, about 15min on a 40-core machine.\n",
    "</div>"
   ]
  },
  {
   "cell_type": "code",
   "execution_count": null,
   "metadata": {
    "scrolled": false
   },
   "outputs": [],
   "source": [
    "%%time\n",
    "\n",
    "path_qspace = f'{path_out}/qspace_shift_0.h5'\n",
    "\n",
    "try:\n",
    "    sxdm.process.xsocs.grid_qspace_xsocs(\n",
    "        path_qspace,\n",
    "        path_master_shifted,\n",
    "        (125,125,125),\n",
    "        overwrite=False\n",
    "    )\n",
    "except RuntimeError:\n",
    "    print('> Data exists! Set overwrite=True if needed.\\n')"
   ]
  },
  {
   "cell_type": "markdown",
   "metadata": {},
   "source": [
    "Once the above cell is run, the file `qspace_shift_0.h5` will contain the sought 5D dataset; namely, $I(x, y, q_x, q_y, q_z)$."
   ]
  },
  {
   "cell_type": "markdown",
   "metadata": {},
   "source": [
    "# Determination of a ROI in reciprocal space"
   ]
  },
  {
   "cell_type": "markdown",
   "metadata": {},
   "source": [
    "First one loads the piezo $(x, y)$ coordinates and the q-space $(q_x, q_y, q_z)$ coordinates from the `master_shifted` and `qspace` files, respectively:"
   ]
  },
  {
   "cell_type": "code",
   "execution_count": null,
   "metadata": {},
   "outputs": [],
   "source": [
    "pix, piy = sxdm.io.xsocs.get_piezo_motorpos(path_master_shifted)\n",
    "qx, qy, qz = sxdm.utils.get_qspace_coords(path_qspace)"
   ]
  },
  {
   "cell_type": "markdown",
   "metadata": {},
   "source": [
    "Then the *average* q-space intensity is computed by summing over all of the probed $(x, y)$ coordinates using the `get_qspace_avg` function. This takes about 50s on a 40-cores machine - because it makes sense to do this computation only *once* per `qspace` file, the data is saved as an `.npy` array for future use:"
   ]
  },
  {
   "cell_type": "code",
   "execution_count": null,
   "metadata": {
    "scrolled": true
   },
   "outputs": [],
   "source": [
    "if False:\n",
    "    qspace_avg = sxdm.io.xsocs.get_qspace_avg(path_qspace, n_threads=48)\n",
    "    np.save('qspace_avg.npy', qspace_avg)\n",
    "    \n",
    "qspace_avg = np.load('qspace_avg.npy')"
   ]
  },
  {
   "cell_type": "markdown",
   "metadata": {},
   "source": [
    "The projections along $q_x$, $q_y$ and $q_z$ io this average reciprocal space volume are plotted below."
   ]
  },
  {
   "cell_type": "code",
   "execution_count": null,
   "metadata": {},
   "outputs": [],
   "source": [
    "fig, ax = plt.subplots(1, 3, figsize=(8, 2.5), layout='tight')\n",
    "\n",
    "_qext = sxdm.utils.get_q_extents(qx, qy, qz)\n",
    "for i in range(3):\n",
    "    ax[i].imshow(qspace_avg.sum(i).T, extent=_qext[i],\n",
    "                 origin='lower', aspect='equal', norm=LogNorm(1e3,5e7))\n",
    "    cbar = sxdm.plot.add_colorbar(ax[i], ax[i].get_images()[0], size='7%')\n",
    "\n",
    "# labels etc.\n",
    "ax[0].set_xlabel(r'$Q_y$ [$\\AA^{-1}$]')\n",
    "ax[2].set_ylabel(r'$Q_y$ [$\\AA^{-1}$]')\n",
    "\n",
    "for i in (1, 2):\n",
    "    ax[i].set_xlabel(r'$Q_x$ [$\\AA^{-1}$]')\n",
    "\n",
    "for i in (0, 1):\n",
    "    ax[i].set_ylabel(r'$Q_z$ [$\\AA^{-1}$]')"
   ]
  },
  {
   "cell_type": "markdown",
   "metadata": {},
   "source": [
    "The next step is to identify an appropriate sub-volume of interest (VOI) within `qspace_avg`. This VOI corresponds to the region for which centres of mass (COMs) will be computed as a function of $(x, y)$. The widget below is used to determine the indexes of the `qspace_avg` array that slice the array so as to obtain a sought VOI:"
   ]
  },
  {
   "cell_type": "code",
   "execution_count": null,
   "metadata": {},
   "outputs": [],
   "source": [
    "i0 = 50\n",
    "\n",
    "fig, ax = plt.subplots(1, 3, figsize=(8, 2.5), layout='tight')\n",
    "\n",
    "im0 = ax[0].imshow(qspace_avg.sum(0).T, norm=LogNorm(1e3,5e7))\n",
    "lines0 = [ax[i].axhline(qz[i0]) for i in (0, 1)]\n",
    "ax[0].set_xlabel(r'cols')\n",
    "ax[0].set_ylabel(r'depth')\n",
    "\n",
    "im1 = ax[1].imshow(qspace_avg.sum(1).T, norm=LogNorm(1e3,5e7))\n",
    "ax[1].set_xlabel(r'rows')\n",
    "ax[1].set_ylabel(r'depth')\n",
    "\n",
    "imslice = ax[2].imshow(qspace_avg[..., i0].T, norm=LogNorm())\n",
    "ax[2].set_xlabel(r'rows')\n",
    "ax[2].set_ylabel(r'cols')\n",
    "\n",
    "for a in ax:\n",
    "    cbar = sxdm.plot.add_colorbar(a, a.get_images()[0], size='10%')\n",
    "\n",
    "fig.subplots_adjust(bottom=.22, top=.9, left=.08, right=.98)\n",
    "    \n",
    "def sliceit(change):\n",
    "    i0 = change['new']\n",
    "    _0 = [l.set_ydata(i0) for l in lines0]\n",
    "    imslice.set_data(qspace_avg[..., i0].T)\n",
    "\n",
    "    ax[2].set_title(f'depth: {i0}')\n",
    "    fig.canvas.draw()\n",
    "\n",
    "slider = ipw.IntSlider(value=i0, min=0, max=qspace_avg.shape[-1]-1, description='depth')\n",
    "slider.observe(sliceit, names='value')\n",
    "slider"
   ]
  },
  {
   "cell_type": "markdown",
   "metadata": {},
   "source": [
    "The identified `rows, cols, depth` indexes are used to define a boolean mask that corresponds to the VOI,"
   ]
  },
  {
   "cell_type": "code",
   "execution_count": null,
   "metadata": {},
   "outputs": [],
   "source": [
    "mask = np.zeros(qspace_avg.shape).astype('bool')\n",
    "mask[20:70,  40:85, 28:60] = True # rows, cols, depth\n",
    "mask = ~mask"
   ]
  },
  {
   "cell_type": "markdown",
   "metadata": {},
   "source": [
    "as well as other quantities related to it:"
   ]
  },
  {
   "cell_type": "code",
   "execution_count": null,
   "metadata": {},
   "outputs": [],
   "source": [
    "roi         = np.where(~mask) # list of VOI indexes\n",
    "roi_sh      = tuple([x.max()-x.min()+1 for x in roi]) # shape of the VOI\n",
    "roi_idxs    = [(x.min(), x.max()+1) for x in roi] # VOI in pixel coords\n",
    "roi_slice   = tuple([slice(x.min(), x.max()+1) for x in roi]) # VOI as slices to preserve shape\n",
    "roi_qcoords = [q[roi_slice] for q in np.meshgrid(qx, qy, qz, indexing='ij')] # VOI in q-coordinates\n",
    "\n",
    "qspace_avg_masked = np.ma.masked_array(data=qspace_avg, mask=mask) # VOI via a masked array: original shape\n",
    "qspace_avg_sliced = qspace_avg[roi_slice] # VOI via slicing: new shape"
   ]
  },
  {
   "cell_type": "markdown",
   "metadata": {},
   "source": [
    "The VOI can be neatly visualised in 3D using `ipyvolume`. Run the cell below (uncomment it if necessary) and refresh the page to install the javascript files that are necessary to load the module:"
   ]
  },
  {
   "cell_type": "code",
   "execution_count": null,
   "metadata": {},
   "outputs": [],
   "source": [
    "# %%bash\n",
    "\n",
    "# pip install ipyvolume -q # will install in sys-prefix, i.e. the virtual env directory\n",
    "# pip install ipyvolume --user -q # needed to enable the extension even if not going to use it\n",
    "\n",
    "# source /data/id01/inhouse/data_analysis/software/pyenvs/sxdm.slurm/bin/activate\n",
    "# /data/id01/inhouse/data_analysis/software/pyenvs/sxdm.slurm/bin/jupyter \\\n",
    "\n",
    "# nbextension enable --py ipyvolume # will enable it in sys-prefix\n",
    "# /data/id01/inhouse/data_analysis/software/pyenvs/sxdm.slurm/bin/jupyter \\\n",
    "# nbextension enable --py --user ipyvolume # will enable it in ~/.jupyter/nbconfig/tree.json"
   ]
  },
  {
   "cell_type": "code",
   "execution_count": null,
   "metadata": {},
   "outputs": [],
   "source": [
    "import ipyvolume as ipv\n",
    "\n",
    "roi_surf = []\n",
    "for i, j, k in ([0,1,2], [0,2,1]):\n",
    "    for m in (0,1):\n",
    "        a, b = np.meshgrid(roi_idxs[i], roi_idxs[j])\n",
    "        c = np.ones((2,2)) * roi_idxs[k][m]\n",
    "        roi_surf.append(np.array([a,b,c])[[0,j,k]])\n",
    "\n",
    "fig = ipv.figure()\n",
    "iso = ipv.plot_isosurface(qspace_avg, level=1e5)\n",
    "\n",
    "for r in roi_surf:\n",
    "    ipv.plot_wireframe(*r, color='green')\n",
    "    \n",
    "ipv.xlim(0,qspace_avg.shape[0])\n",
    "ipv.ylim(0,qspace_avg.shape[1])\n",
    "ipv.zlim(0,qspace_avg.shape[2])\n",
    "\n",
    "ipv.view(40, 90)\n",
    "ipv.show()"
   ]
  },
  {
   "cell_type": "markdown",
   "metadata": {},
   "source": [
    "Alteratively, the VOI is overlaid on the orthogonal projections of `qspace_avg`:"
   ]
  },
  {
   "cell_type": "code",
   "execution_count": null,
   "metadata": {},
   "outputs": [],
   "source": [
    "from matplotlib.patches import Rectangle as R\n",
    "\n",
    "fig, ax = plt.subplots(1, 3, figsize=(8, 2.5), layout='tight')\n",
    "\n",
    "# draw the _roi as rectangles\n",
    "_roi = [y for x in roi_qcoords for y in [x.min(), x.max()]]\n",
    "r2 = R((_roi[0], _roi[2]), _roi[1]-_roi[0], _roi[3]-_roi[2],\n",
    "       edgecolor='r', facecolor='none', transform=ax[2].transData)  # xy\n",
    "r1 = R((_roi[0], _roi[4]), _roi[1]-_roi[0], _roi[5]-_roi[4],\n",
    "       edgecolor='r', facecolor='none', transform=ax[1].transData)  # xz\n",
    "r0 = R((_roi[2], _roi[4]), _roi[3]-_roi[2], _roi[5]-_roi[4],\n",
    "       edgecolor='r', facecolor='none', transform=ax[0].transData)  # yz\n",
    "\n",
    "_qext = sxdm.utils.get_q_extents(qx, qy, qz)\n",
    "for i, r in zip(range(3), [r0, r1, r2]):\n",
    "    ax[i].imshow(qspace_avg.sum(i).T, extent=_qext[i],\n",
    "                 origin='lower', aspect='equal', norm=LogNorm(1e3,5e7))\n",
    "    ax[i].add_patch(r)\n",
    "    cbar = sxdm.plot.add_colorbar(ax[i], ax[i].get_images()[0], size='7%')\n",
    "\n",
    "# labels etc.\n",
    "ax[0].set_xlabel(r'$Q_y$ [$\\AA^{-1}$]')\n",
    "ax[2].set_ylabel(r'$Q_y$ [$\\AA^{-1}$]')\n",
    "\n",
    "for i in (1, 2):\n",
    "    ax[i].set_xlabel(r'$Q_x$ [$\\AA^{-1}$]')\n",
    "\n",
    "for i in (0, 1):\n",
    "    ax[i].set_ylabel(r'$Q_z$ [$\\AA^{-1}$]')"
   ]
  },
  {
   "cell_type": "markdown",
   "metadata": {},
   "source": [
    "# Calculation and visualisation of local structural parameters"
   ]
  },
  {
   "cell_type": "markdown",
   "metadata": {},
   "source": [
    "if the VOI selection performed in the previous section is satisfactory, one can proceed to compute the COMs of the intensity falling within the VOI as a function of $(x, y)$. This is done with `calc_coms_qspace3d`, which requires as an input the VOI expressed as a tuple of slices (`roi_slice`), and allows one to limit the COM calculation to the N most intense pixels within the VOI via the argument `n_pix=N`. Here only 10 pixels are used:"
   ]
  },
  {
   "cell_type": "code",
   "execution_count": null,
   "metadata": {},
   "outputs": [],
   "source": [
    "cx, cy, cz = sxdm.process.math.calc_coms_qspace3d(path_qspace, roi_slice, n_pix=10)"
   ]
  },
  {
   "cell_type": "markdown",
   "metadata": {},
   "source": [
    "Note how for compatibility with XSOCS, COMs are returned as a flat $x*y$ array, i.e."
   ]
  },
  {
   "cell_type": "code",
   "execution_count": null,
   "metadata": {},
   "outputs": [],
   "source": [
    "print(cx.shape)"
   ]
  },
  {
   "cell_type": "markdown",
   "metadata": {},
   "source": [
    "Next the intensity falling within the VOI is computed:"
   ]
  },
  {
   "cell_type": "code",
   "execution_count": null,
   "metadata": {
    "scrolled": true
   },
   "outputs": [],
   "source": [
    "roi_int = sxdm.process.math.calc_roi_sum(path_qspace, roi_slice)"
   ]
  },
  {
   "cell_type": "markdown",
   "metadata": {},
   "source": [
    "The latter is also flattened. The cell below reshapes the `cx, cy, cz, roi_int` arays to $(x, y)$ and masks the portion of each array which have been shifted beforehand:"
   ]
  },
  {
   "cell_type": "code",
   "execution_count": null,
   "metadata": {},
   "outputs": [],
   "source": [
    "# (x, y) shift window and extents\n",
    "pi_win = np.s_[int(shifts[:,0].max()):int(shifts[:,0].min()), :int(shifts[:,1].min())] \n",
    "pi_ext = [pix.min(), pix.max(), piy.min(), piy.max()]\n",
    "\n",
    "# mask based on (x, y) shift window\n",
    "dmask = np.ones_like(pix)\n",
    "dmask[pi_win] = 0\n",
    "\n",
    "# make masked arrays\n",
    "cx, cy, cz, roi_int = [np.ma.masked_where(\n",
    "    dmask != 0, x.reshape(pix.shape)) for x in (cx, cy, cz, roi_int)]"
   ]
  },
  {
   "cell_type": "markdown",
   "metadata": {},
   "source": [
    "Finally, the values of `cx, cy, cz` are used to compute $\\vec{q}(x, y)$. The values of $\\vec{q}$ depend on the **origin** with respect to which these are computed. Furthermore, local tilts are only meaningful if defined relative to a reference axis. Thus, $\\vec{q}$ is best computed relative to a reference $\\vec{q}_\\mathsf{ref}$. The choice of $\\vec{q}_\\mathsf{ref}$ is arbitrary. Here the average COM within the VOI is taken as $\\vec{q}_\\mathsf{ref}$, in order to visualise the deviations of $\\vec{q}(x, y)$ from its *average*:"
   ]
  },
  {
   "cell_type": "code",
   "execution_count": null,
   "metadata": {},
   "outputs": [],
   "source": [
    "# origin\n",
    "# cxm, cym, czm = 0,0,1 \n",
    "cxm, cym, czm = cx.mean(), cy.mean(), cz.mean()\n",
    "\n",
    "# local Q vector and its magnitude\n",
    "Q = np.array([cx, cy, cz])\n",
    "q = np.sqrt(cx**2 + cy**2 + cz**2)\n",
    "\n",
    "# average q vector and its magnitude\n",
    "Q_av = np.array([cxm, cym, czm])\n",
    "q_av = np.sqrt(cxm**2 + cym**2 + czm**2)\n",
    "\n",
    "# local and average interplanar distances\n",
    "d = 2 * np.pi / q\n",
    "d_av = 2 * np.pi / q_av\n",
    "\n",
    "# abosulte angle between q and Q : tilt magnitude\n",
    "_numerator = np.dot(\n",
    "    Q_av, Q.flatten().reshape(3, Q.shape[1]*Q.shape[2])\n",
    ")\n",
    "_denominator = q.flatten() * q_av\n",
    "tiltmag = np.degrees(np.arccos(_numerator / _denominator))\n",
    "tiltmag = tiltmag.reshape(q.shape)\n",
    "\n",
    "# azimuthal angle between q and Q : tilt direction\n",
    "az = 90 + np.degrees(np.arctan2(cx - cxm, cy - cym))\n",
    "\n",
    "# compute tilt magnitude + direction in single HSV array\n",
    "tilt = sxdm.plot.make_hsv(tiltmag, az, stretch=True)"
   ]
  },
  {
   "cell_type": "markdown",
   "metadata": {},
   "source": [
    "Finally, the computed quantities are plotted (explanation below):"
   ]
  },
  {
   "cell_type": "markdown",
   "metadata": {},
   "source": [
    "<div class=\"alert alert-block alert-warning\">\n",
    "    <b>Note:</b> if <code>ipython</code> starts complaining that you have too many figures open, reset the figures with <code>%matplotlib widget</code>.\n",
    "</div>"
   ]
  },
  {
   "cell_type": "code",
   "execution_count": null,
   "metadata": {
    "scrolled": false
   },
   "outputs": [],
   "source": [
    "titles = [r\"Intensity (a.u.)\",rf\"$d~(\\AA)$\",r\"Tilt\", 'COM distibution']\n",
    "fig, axs = plt.subplots(\n",
    "    2,\n",
    "    2,\n",
    "    figsize=(7, 7),\n",
    "#     gridspec_kw=dict(width_ratios=[1, 1.16]),\n",
    "    layout=\"tight\",\n",
    "    dpi=100\n",
    ")\n",
    "ax = axs.flatten()\n",
    "\n",
    "# plots\n",
    "ax[0].imshow(roi_int, extent=pi_ext, cmap=\"viridis\")\n",
    "ax[1].imshow(d, extent=pi_ext, cmap=\"viridis\")\n",
    "ax[2].imshow(tilt, extent=pi_ext, cmap=\"hsv\")\n",
    "\n",
    "_az = np.degrees(np.arctan2(cy-cym, cx-cxm))\n",
    "qext = [qx.min(), qx.max(), qy.min(), qy.max()]\n",
    "\n",
    "ax[3].imshow(qspace_avg.sum(2).T, extent=qext, norm=LogNorm(), cmap='magma', origin='lower')\n",
    "ax[3].scatter(cx, cy, marker='o', s=.5, c=-_az, cmap='hsv', alpha=.5, vmin=-180, vmax=180)\n",
    "\n",
    "# normal colorbars\n",
    "for a, t in zip(ax, titles):\n",
    "    a.set_title(t, pad=20)\n",
    "    if a != ax[2]:\n",
    "        cbar = sxdm.plot.add_colorbar(a, a.get_images()[0])\n",
    "        try:\n",
    "            cbar.ax.ticklabel_format(scilimits=(0, 0), useMathText=True)\n",
    "        except:\n",
    "            pass\n",
    "\n",
    "# tilt colorbar\n",
    "labels  = [\"$[?]$\", \"$[?]$\", \"$[?]$\"]\n",
    "labels += [\"$[?]$\", \"$[?]$\"]\n",
    "sxdm.plot.add_hsv_colorbar(tiltmag, ax[2], labels)\n",
    "\n",
    "# labels\n",
    "_ = [a.set_xlabel('x $(\\mathsf{\\mu m})$') for a in ax[:3]]\n",
    "_ = [a.set_ylabel('y $(\\mathsf{\\mu m})$') for a in ax[:3]]\n",
    "\n",
    "ax[3].set_ylabel(r'$q_y$ ($\\AA^{-1}$)')\n",
    "ax[3].set_xlabel(r'$q_x$ ($\\AA^{-1}$)')"
   ]
  },
  {
   "cell_type": "markdown",
   "metadata": {},
   "source": [
    "The figure above displays, as a function of $(x,y)$ and in clockwise order:\n",
    "\n",
    "1. The intensity in the VOI;\n",
    "2. The interplanar distance \n",
    "3. The tilt magitude (hue) and direction (color)\n",
    "4. The distribution of `cx, cy` in the $(q_x, q_y)$ plane, overlaid on the $q_z$ projection of `qspace_avg`.\n",
    "\n",
    "Note how 3) depends on the specific choice of `cxm, cym, czm`, i.e. of the reference $\\vec{q}_\\mathsf{ref}$ . These data can be further explored using the widget below. Click around and see the diffraction pattern evolve! The arrow keys can also be used. Have a look at the docstring of `Inspect5DQspace` to see what else it can do."
   ]
  },
  {
   "cell_type": "code",
   "execution_count": null,
   "metadata": {},
   "outputs": [],
   "source": [
    "results = {'interplanar_distance': d, 'roi_intensity': roi_int,\n",
    "           'tilt': tilt, 'tilt_magnitude': tiltmag, 'tilt_azimuth': az}\n",
    "\n",
    "viz = sxdm.widgets.xsocs.Inspect5DQspace(\n",
    "    results,\n",
    "    path_qspace,\n",
    "    coms=[cx, cy, cz],\n",
    "    relim_int=True,\n",
    "    init_idx=[61, 142],\n",
    ")\n",
    "\n",
    "viz.ax[0, 0].get_images()[0].set_cmap(\"viridis\")\n",
    "viz.fig.set_figwidth(10)\n",
    "viz.fig.set_figheight(8.5)\n",
    "viz._iflog.value = True\n",
    "viz.show()"
   ]
  }
 ],
 "metadata": {
  "hide_input": false,
  "kernelspec": {
   "display_name": "sxdm.slurm",
   "language": "python",
   "name": "sxdm.slurm"
  },
  "language_info": {
   "codemirror_mode": {
    "name": "ipython",
    "version": 3
   },
   "file_extension": ".py",
   "mimetype": "text/x-python",
   "name": "python",
   "nbconvert_exporter": "python",
   "pygments_lexer": "ipython3",
   "version": "3.8.10"
  },
  "notify_time": "30",
  "toc": {
   "base_numbering": 1,
   "nav_menu": {},
   "number_sections": true,
   "sideBar": true,
   "skip_h1_title": false,
   "title_cell": "Table of Contents",
   "title_sidebar": "Contents",
   "toc_cell": true,
   "toc_position": {},
   "toc_section_display": true,
   "toc_window_display": false
  }
 },
 "nbformat": 4,
 "nbformat_minor": 4
}
