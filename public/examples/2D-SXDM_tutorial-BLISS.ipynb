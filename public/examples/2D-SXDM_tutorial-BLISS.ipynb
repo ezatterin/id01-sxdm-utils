{
 "cells": [
  {
   "cell_type": "markdown",
   "metadata": {},
   "source": [
    "<div class=\"alert alert-block alert-danger\">\n",
    "<b>Warning:</b> this notebook is still a work in progress!\n",
    "</div>"
   ]
  },
  {
   "cell_type": "markdown",
   "metadata": {
    "toc": true
   },
   "source": [
    "<h1>Table of Contents<span class=\"tocSkip\"></span></h1>\n",
    "<div class=\"toc\"><ul class=\"toc-item\"><li><span><a href=\"#Installation\" data-toc-modified-id=\"Installation-1\"><span class=\"toc-item-num\">1&nbsp;&nbsp;</span>Installation</a></span></li><li><span><a href=\"#Tutorial\" data-toc-modified-id=\"Tutorial-2\"><span class=\"toc-item-num\">2&nbsp;&nbsp;</span>Tutorial</a></span><ul class=\"toc-item\"><li><span><a href=\"#Introduction\" data-toc-modified-id=\"Introduction-2.1\"><span class=\"toc-item-num\">2.1&nbsp;&nbsp;</span>Introduction</a></span></li><li><span><a href=\"#Import-libraries\" data-toc-modified-id=\"Import-libraries-2.2\"><span class=\"toc-item-num\">2.2&nbsp;&nbsp;</span>Import libraries</a></span></li><li><span><a href=\"#Explore-the-data\" data-toc-modified-id=\"Explore-the-data-2.3\"><span class=\"toc-item-num\">2.3&nbsp;&nbsp;</span>Explore the data</a></span></li></ul></li></ul></div>"
   ]
  },
  {
   "cell_type": "markdown",
   "metadata": {},
   "source": [
    "# 2D-SXDM tutorial"
   ]
  },
  {
   "cell_type": "markdown",
   "metadata": {},
   "source": [
    "This notebook introduces basic exploration and preprocessing of 2D-SXDM data obatined on beamline ID01 @ ESRF using the in-house developed library `sxdm`. \n",
    "\n",
    "**Requirements**:\n",
    "* An ESRF single sign-on (SSO)\n",
    "* Basic knowledge of [Jupyter notebooks](https://jupyter.org/)"
   ]
  },
  {
   "cell_type": "markdown",
   "metadata": {},
   "source": [
    "## Installation"
   ]
  },
  {
   "cell_type": "markdown",
   "metadata": {},
   "source": [
    "This notebook is meant to be run on the [Jupyter-SLURM hub](https://jupyter-slurm.esrf.fr/). Instructions on how to achieve this are given in the [README](https://gitlab.esrf.fr/id01-science/id01-sxdm-utils/-/blob/main/README.md) of the `sxdm` repository (requires SSO for access). You should be reading this from within jupyter-slurm!\n",
    "\n",
    "To run the notebook a few python dependecies are necessary. To simplify things, these are stored in a virtual environment accessible from jupyter-slurm and maintained by the ID01 staff. To install the virtual environment run the cell below:"
   ]
  },
  {
   "cell_type": "code",
   "execution_count": 1,
   "metadata": {},
   "outputs": [
    {
     "name": "stdout",
     "output_type": "stream",
     "text": [
      "Requirement already satisfied: ipykernel in /usr/lib/python3/dist-packages (5.2.0)\n",
      "Installed kernelspec sxdm.slurm in /home/esrf/zatterin/.local/share/jupyter/kernels/sxdm.slurm\n"
     ]
    }
   ],
   "source": [
    "%%bash\n",
    "\n",
    "pip3 install ipykernel\n",
    "source /data/id01/inhouse/data_analysis/software/pyenvs/sxdm.slurm/bin/activate\n",
    "python3 -m ipykernel install --user --name sxdm.slurm"
   ]
  },
  {
   "cell_type": "markdown",
   "metadata": {},
   "source": [
    "Now refresh the webpage. One this is done, change the active kernel by using the menu bar on the top and clicking on `Kernel > Change kernel > sxdm.slurm`. You are now ready to run the notebook!"
   ]
  },
  {
   "cell_type": "markdown",
   "metadata": {},
   "source": [
    "## Tutorial"
   ]
  },
  {
   "cell_type": "markdown",
   "metadata": {},
   "source": [
    "<div class=\"alert alert-block alert-warning\">\n",
    "<b>Warning:</b> This notebook deals with SXDM data produced by BLISS, the new control system of ESRF. BLISS is still under development and its structure changes relatively often. Some code in this notebook may therefore be out of date (as well as some info/explanations) and not work correctly. If this is the case, please submit an <a href=\"https://gitlab.esrf.fr/id01-science/id01-sxdm-utils/-/issues\">issue</a>\n",
    ".\n",
    "</div>"
   ]
  },
  {
   "cell_type": "markdown",
   "metadata": {},
   "source": [
    "### Introduction"
   ]
  },
  {
   "cell_type": "markdown",
   "metadata": {},
   "source": [
    "2D-SXDM refers to SXDM data collected at a single angle, i.e. without rocking the sample. This corresponds to the output of individual `asxdm()` or `dsxdm()` commands run in `BLISS` on ID01.\n",
    "\n",
    "During an experiment data is saved on the ESRF NICE cluster. Each experiment has a directory tree dedicated to it. For example, the inhouse `id012203` experiment is located in  `/data/id01/inhouse/data/IHR/id012203/id01/`. A `m21005b` sub-folder is present in the main folder:"
   ]
  },
  {
   "cell_type": "code",
   "execution_count": 1,
   "metadata": {},
   "outputs": [
    {
     "name": "stdout",
     "output_type": "stream",
     "text": [
      "\u001b[01;34m/data/id01/inhouse/data/IHR/id012203/id01/\u001b[00m\n",
      "├── \u001b[34;42manalysis\u001b[00m\n",
      "│   ├── coms.npy\n",
      "│   ├── \u001b[01;34mdata\u001b[00m\n",
      "│   ├── _debug_ipympl.ipynb\n",
      "│   ├── \u001b[01;34mexport\u001b[00m\n",
      "│   ├── \u001b[01;34mid01-sxdm-utils\u001b[00m\n",
      "│   ├── \u001b[01;34mm21005b_103\u001b[00m\n",
      "│   ├── m21005b_local-RSMs.h5\n",
      "│   ├── m21005b_RSMs.h5\n",
      "│   ├── roi_int.npy\n",
      "│   ├── \u001b[01;32mscans-bliss-MH.ipynb\u001b[00m\n",
      "│   ├── \u001b[01;32mscans_sxdm-bliss_m21005b.ipynb\u001b[00m\n",
      "│   ├── SIMPLE_sxdm_analyse_m21005b_103_EZ.ipynb\n",
      "│   ├── SIMPLE_sxdm_analyse_m21005b_103.ipynb\n",
      "│   ├── sxdm_analyse_m21005b_103_explore-roi.ipynb\n",
      "│   ├── sxdm_analyse_m21005b_103_iptilt-roi.ipynb\n",
      "│   └── sxdm_merge_m21005b.ipynb\n",
      "├── id012203_id01.h5\n",
      "├── \u001b[01;34mm21005b\u001b[00m\n",
      "│   ├── id012203_m21005b.h5\n",
      "│   ├── \u001b[01;34mm21005b_0001\u001b[00m\n",
      "│   ├── \u001b[01;34mm21005b_0002\u001b[00m\n",
      "│   ├── \u001b[01;34mm21005b_0003\u001b[00m\n",
      "│   ├── \u001b[01;34mm21005b_0004\u001b[00m\n",
      "│   ├── \u001b[01;34mm21005b_0005\u001b[00m\n",
      "│   ├── \u001b[01;34mm21005b_0006\u001b[00m\n",
      "│   ├── \u001b[01;34mm21005b_0007\u001b[00m\n",
      "│   ├── \u001b[01;34mm21005b_0008\u001b[00m\n",
      "│   ├── \u001b[01;34mm21005b_0009\u001b[00m\n",
      "│   ├── \u001b[01;34mm21005b_0010\u001b[00m\n",
      "│   ├── \u001b[01;34mm21005b_0011\u001b[00m\n",
      "│   ├── \u001b[01;34mm21005b_align\u001b[00m\n",
      "│   ├── \u001b[01;34mm21005b_align_sxdm\u001b[00m\n",
      "│   └── \u001b[01;34mm21005b_herc22_morning\u001b[00m\n",
      "└── \u001b[01;34msample\u001b[00m\n",
      "    ├── id012203_sample.h5\n",
      "    ├── \u001b[01;34msample_0001\u001b[00m\n",
      "    ├── \u001b[01;34msample_0002\u001b[00m\n",
      "    ├── \u001b[01;34msample_0003\u001b[00m\n",
      "    ├── \u001b[01;34msample_0004\u001b[00m\n",
      "    ├── \u001b[01;34msample_0005\u001b[00m\n",
      "    └── \u001b[01;34msample_0006\u001b[00m\n",
      "\n",
      "27 directories, 15 files\n"
     ]
    }
   ],
   "source": [
    "!tree -L 2 /data/id01/inhouse/data/IHR/id012203/id01/"
   ]
  },
  {
   "cell_type": "markdown",
   "metadata": {},
   "source": [
    "The `m21005b` folder contains all the data and metadata pertaining the sample named `m21005b`. It was created by using the `newsample` BLISS command. One should thus run this command every time a sample is changed. \n",
    "\n",
    "Within `m21005b`, one finds several `m21005b_xxxx` folders. Each folder corresponds to a dataset, and was initialised using the `newdataset` command. Again the idea is to isolate conceptually different scans routines from eachother. For example, two datasets may be two sets of SXDM scans performed at different temperatures.\n",
    "\n",
    "Finally, within each dataset directory there will be a folder for each scan performed. For example, taking dataset `sample_0001`:"
   ]
  },
  {
   "cell_type": "code",
   "execution_count": 2,
   "metadata": {},
   "outputs": [
    {
     "name": "stdout",
     "output_type": "stream",
     "text": [
      "\u001b[01;34m/data/id01/inhouse/data/IHR/id012203/id01/m21005b/m21005b_0001\u001b[00m\n",
      "├── id012203-m21005b-0001.h5\n",
      "├── m21005b_0001.h5\n",
      "├── \u001b[01;34mscan0001\u001b[00m\n",
      "│   └── mpx1x4_0000.h5\n",
      "├── \u001b[01;34mscan0002\u001b[00m\n",
      "│   └── mpx1x4_0000.h5\n",
      "├── \u001b[01;34mscan0003\u001b[00m\n",
      "│   └── mpx1x4_0000.h5\n",
      "├── \u001b[01;34mscan0004\u001b[00m\n",
      "│   └── mpx1x4_0000.h5\n",
      "└── \u001b[01;34mscan0005\u001b[00m\n",
      "    └── mpx1x4_0000.h5\n",
      "\n",
      "5 directories, 7 files\n"
     ]
    }
   ],
   "source": [
    "!tree -L 3 /data/id01/inhouse/data/IHR/id012203/id01/m21005b/m21005b_0001"
   ]
  },
  {
   "cell_type": "markdown",
   "metadata": {},
   "source": [
    "Everytime one enters one of these subdirectories, an [HDF5](https://www.hdfgroup.org/solutions/hdf5/) (`.h5`) file is present. Indeed there is one even at the very top of the directory tree, above the `m21005b` directory:"
   ]
  },
  {
   "cell_type": "code",
   "execution_count": 3,
   "metadata": {},
   "outputs": [
    {
     "name": "stdout",
     "output_type": "stream",
     "text": [
      "total 50K\r\n",
      "drwxrwxrwx  8 opid01 id01 4,0K juil. 21 14:11 \u001b[0m\u001b[34;42manalysis\u001b[0m/\r\n",
      "-rw-rw-r--  1 opid01 id01  43K mars  29 20:50 id012203_id01.h5\r\n",
      "drwxrwxr-x 16 opid01 id01 4,0K mars   9 22:21 \u001b[01;34mm21005b\u001b[0m/\r\n",
      "drwxrwxr-x  8 opid01 id01 4,0K mars  15 15:20 \u001b[01;34msample\u001b[0m/\r\n"
     ]
    }
   ],
   "source": [
    "%ls -lh /data/id01/inhouse/data/IHR/id012203/id01/"
   ]
  },
  {
   "cell_type": "markdown",
   "metadata": {},
   "source": [
    "The HDF5 format allows to store data and metadata together in a single file. Moreover, a given `.h5` file can contain links to another `.h5` file. Thus, even if the \"real\" data is contained in an `.h5` file somwhere down a directory tree, a \"master\" `.h5` file can point to it. This is exactly what happens in the present case, where each file in a parent directory contains links to the file in the directory below it. \n",
    "\n",
    "Most useful is the file that pertains to a certain dataset,"
   ]
  },
  {
   "cell_type": "code",
   "execution_count": 4,
   "metadata": {},
   "outputs": [],
   "source": [
    "path_dset = '/data/id01/inhouse/data/IHR/id012203/id01/m21005b/m21005b_0001/m21005b_0001.h5'"
   ]
  },
  {
   "cell_type": "markdown",
   "metadata": {},
   "source": [
    "To quickly inspect its contents one can use a tool developed at the EUXFEL that traverses the file's contents and exposes them as an html (interactive) output:"
   ]
  },
  {
   "cell_type": "code",
   "execution_count": 5,
   "metadata": {
    "scrolled": false
   },
   "outputs": [
    {
     "ename": "NameError",
     "evalue": "name 'h5p' is not defined",
     "output_type": "error",
     "traceback": [
      "\u001b[0;31m---------------------------------------------------------------------------\u001b[0m",
      "\u001b[0;31mNameError\u001b[0m                                 Traceback (most recent call last)",
      "Input \u001b[0;32mIn [5]\u001b[0m, in \u001b[0;36m<module>\u001b[0;34m\u001b[0m\n\u001b[1;32m      1\u001b[0m \u001b[38;5;28;01mfrom\u001b[39;00m \u001b[38;5;21;01mh5glance\u001b[39;00m \u001b[38;5;28;01mimport\u001b[39;00m H5Glance \u001b[38;5;28;01mas\u001b[39;00m hp5 \n\u001b[0;32m----> 3\u001b[0m \u001b[43mh5p\u001b[49m(path_dset)\n",
      "\u001b[0;31mNameError\u001b[0m: name 'h5p' is not defined"
     ]
    }
   ],
   "source": [
    "from h5glance import H5Glance as hp5 \n",
    "\n",
    "h5p(path_dset)"
   ]
  },
  {
   "cell_type": "markdown",
   "metadata": {},
   "source": [
    "The contents of the file follow the [NeXus])https://www.nexusformat.org/) convention - eventually at any synchrotron in the world the data files will have this same structure. The meaning of the data (techicnally: a `dataset`) contained in each hdf5 \"folder\" (technically: a `group`) should be easy to understand by exploring the file structure (If not, check the link above for more info). The ESRF software group has developed a [series of tools](http://www.silx.org/doc/silx/latest/Tutorials/io.html) to easily visualise these hierarchical data when sitting at the beamline."
   ]
  },
  {
   "cell_type": "markdown",
   "metadata": {},
   "source": [
    "### Import libraries"
   ]
  },
  {
   "cell_type": "code",
   "execution_count": null,
   "metadata": {},
   "outputs": [],
   "source": [
    "# %matplotlib widget\n",
    "\n",
    "# import numpy as np\n",
    "# import matplotlib.pyplot as plt\n",
    "# import sxdm"
   ]
  },
  {
   "cell_type": "code",
   "execution_count": 1,
   "metadata": {},
   "outputs": [
    {
     "name": "stderr",
     "output_type": "stream",
     "text": [
      "<frozen importlib._bootstrap>:219: RuntimeWarning: scipy._lib.messagestream.MessageStream size changed, may indicate binary incompatibility. Expected 56 from C header, got 64 from PyObject\n"
     ]
    }
   ],
   "source": [
    "%matplotlib widget\n",
    "\n",
    "# from pathlib import Path\n",
    "# import sys\n",
    "\n",
    "# sys.path.insert(0,'{}/repos/id01-sxdm-utils/'.format(Path.home()))\n",
    "\n",
    "import sxdm\n",
    "import numpy as np\n",
    "import h5py\n",
    "\n",
    "import matplotlib.pyplot as plt\n",
    "import ipywidgets as ipw\n",
    "\n",
    "from datetime import datetime\n",
    "from functools import wraps\n",
    "\n",
    "def ioh5(func):\n",
    "    @wraps(func) # to get docstring of dectorated func\n",
    "    def wrapper(filename, *args, **kwargs):\n",
    "        with h5py.File(filename, 'r') as h5f:\n",
    "            return func(h5f, *args, **kwargs)\n",
    "    return wrapper"
   ]
  },
  {
   "cell_type": "markdown",
   "metadata": {},
   "source": [
    "### Explore the data"
   ]
  },
  {
   "cell_type": "code",
   "execution_count": 115,
   "metadata": {},
   "outputs": [],
   "source": [
    "path_exp = '/data/id01/inhouse/data/IHR/id012203/id01'"
   ]
  },
  {
   "cell_type": "code",
   "execution_count": 116,
   "metadata": {},
   "outputs": [],
   "source": [
    "name_dset = '0008'\n",
    "path_dset = f'{path_exp}/m21005b/m21005b_{name_dset}/m21005b_{name_dset}.h5'"
   ]
  },
  {
   "cell_type": "code",
   "execution_count": 117,
   "metadata": {},
   "outputs": [
    {
     "name": "stdout",
     "output_type": "stream",
     "text": [
      "1.1 asxdm( pix, 47.0, 53.0, 100, piy, 40.0, 46.0, 100, 0.01 )\n",
      "2.1 asxdm( pix, 48.0, 54.0, 60, piy, 41.0, 47.0, 60, 0.01 )\n"
     ]
    }
   ],
   "source": [
    "scan_nos = []\n",
    "with h5py.File(path_dset, 'r') as h5f:\n",
    "    _nscans = len(list(h5f.keys()))\n",
    "    for idx in range(1, _nscans+1):\n",
    "        _scan = f'{idx}.1'\n",
    "        try:\n",
    "            _command = h5f[_scan]['title'][()].decode()\n",
    "            _datetime = h5f[f'{_scan}/start_time'][()].decode()\n",
    "            _datetime = datetime.fromisoformat(_datetime).strftime('%b %d | %H:%M:%S')\n",
    "            _day = _datetime.split(' ')[1]\n",
    "        except KeyError:\n",
    "            pass\n",
    "        if 'sxdm' in _command:\n",
    "            print(_scan, _command)\n",
    "            scan_nos.append(_scan)"
   ]
  },
  {
   "cell_type": "code",
   "execution_count": 122,
   "metadata": {},
   "outputs": [],
   "source": [
    "def get_roi(scan_idx, roi_name):\n",
    "    with h5py.File(path_dset, 'r') as h5f:\n",
    "        _entry = scan_nos[scan_idx]\n",
    "        _sh = [h5f[_entry][f'technique/{x}'][()] for x in ('dim0', 'dim1')]\n",
    "        data = h5f[_entry][f'measurement/mpx1x4_{roi_name}'][()].reshape(*_sh)\n",
    "    \n",
    "    return data"
   ]
  },
  {
   "cell_type": "code",
   "execution_count": 123,
   "metadata": {},
   "outputs": [],
   "source": [
    "@ioh5\n",
    "def get_positioner(h5fname, scan_idx, motor_name):\n",
    "    entry = scan_nos[scan_idx]\n",
    "    mot = h5fname[f'/{entry}/instrument/positioners/{motor_name}'][()]\n",
    "    \n",
    "    return mot"
   ]
  },
  {
   "cell_type": "code",
   "execution_count": 124,
   "metadata": {},
   "outputs": [
    {
     "data": {
      "application/vnd.jupyter.widget-view+json": {
       "model_id": "4ea2df1c6fe44a15a4f845224cfc6270",
       "version_major": 2,
       "version_minor": 0
      },
      "text/plain": [
       "Canvas(toolbar=Toolbar(toolitems=[('Home', 'Reset original view', 'home', 'home'), ('Back', 'Back to previous …"
      ]
     },
     "metadata": {},
     "output_type": "display_data"
    },
    {
     "data": {
      "application/vnd.jupyter.widget-view+json": {
       "model_id": "5131afe22d7c413d944a41b144dd73b1",
       "version_major": 2,
       "version_minor": 0
      },
      "text/plain": [
       "interactive(children=(IntSlider(value=0, description='i', max=1), Output()), _dom_classes=('widget-interact',)…"
      ]
     },
     "metadata": {},
     "output_type": "display_data"
    }
   ],
   "source": [
    "%matplotlib widget\n",
    "%matplotlib widget\n",
    "\n",
    "fig, ax = plt.subplots(1,1, figsize=(4,4), layout='tight')\n",
    "\n",
    "dmap = ax.imshow(get_roi(0, 'roi1'))\n",
    "\n",
    "@ipw.interact(i=(0, len(scan_nos)-1, 1))\n",
    "def pltdmap(i=0):\n",
    "    _map = get_roi(i, 'roi1')\n",
    "        \n",
    "    dmap.set_data(_map)\n",
    "    dmap.set_clim(_map.min(), _map.max())\n",
    "    \n",
    "    fzpx = get_positioner(path_dset, i, 'fzpx')\n",
    "    ax.set_title(f'{fzpx:.0f}')"
   ]
  }
 ],
 "metadata": {
  "hide_input": false,
  "kernelspec": {
   "display_name": "sxdm.slurm",
   "language": "python",
   "name": "sxdm.slurm"
  },
  "language_info": {
   "codemirror_mode": {
    "name": "ipython",
    "version": 3
   },
   "file_extension": ".py",
   "mimetype": "text/x-python",
   "name": "python",
   "nbconvert_exporter": "python",
   "pygments_lexer": "ipython3",
   "version": "3.8.10"
  },
  "notify_time": "30",
  "toc": {
   "base_numbering": 1,
   "nav_menu": {},
   "number_sections": true,
   "sideBar": true,
   "skip_h1_title": true,
   "title_cell": "Table of Contents",
   "title_sidebar": "Contents",
   "toc_cell": true,
   "toc_position": {},
   "toc_section_display": true,
   "toc_window_display": false
  }
 },
 "nbformat": 4,
 "nbformat_minor": 4
}
